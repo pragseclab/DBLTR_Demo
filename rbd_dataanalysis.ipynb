{
 "cells": [
  {
   "cell_type": "markdown",
   "metadata": {
    "id": "MppTXLa4slWy",
    "jp-MarkdownHeadingCollapsed": true,
    "tags": []
   },
   "source": [
    "### Lib Imports"
   ]
  },
  {
   "cell_type": "code",
   "execution_count": 114,
   "metadata": {
    "id": "BtEPmD3qVxhZ"
   },
   "outputs": [],
   "source": [
    "import glob\n",
    "import sys\n",
    "import heapq\n",
    "import subprocess\n",
    "import pickle\n",
    "import yaml\n",
    "import random\n",
    "import gensim\n",
    "import statistics\n",
    "import wordcloud\n",
    "import json\n",
    "import os.path\n",
    "import pandas as pd\n",
    "import numpy as np\n",
    "from shutil import copytree\n",
    "from statistics import median\n",
    "from matplotlib.ticker import ScalarFormatter\n",
    "from matplotlib.ticker import StrMethodFormatter\n",
    "from matplotlib.ticker import PercentFormatter\n",
    "from sklearn.metrics import silhouette_score\n",
    "from sklearn.cluster import SpectralClustering\n",
    "from sklearn.metrics import pairwise_distances\n",
    "from scipy.spatial.distance import cosine\n",
    "from sklearn.feature_extraction.text import TfidfVectorizer\n",
    "from sklearn.feature_extraction.text import CountVectorizer\n",
    "from sklearn.cluster import KMeans\n",
    "from sklearn.decomposition import PCA\n",
    "from sklearn.manifold import TSNE\n",
    "from sklearn.metrics import silhouette_score, silhouette_samples\n",
    "from copy import deepcopy\n",
    "from collections import Counter\n",
    "from tqdm import tqdm\n",
    "from operator import itemgetter\n",
    "from pathlib import Path\n",
    "from IPython.display import clear_output\n",
    "import matplotlib.pyplot as plt\n",
    "import warnings\n",
    "\n",
    "warnings.filterwarnings(action='ignore')\n",
    "plt.style.use('ggplot')"
   ]
  },
  {
   "cell_type": "markdown",
   "metadata": {
    "id": "v2tPJf78Y4Ht",
    "tags": []
   },
   "source": [
    "### Import CSV files"
   ]
  },
  {
   "cell_type": "code",
   "execution_count": null,
   "metadata": {
    "colab": {
     "base_uri": "https://localhost:8080/"
    },
    "id": "WHn9b9OtWxMm",
    "outputId": "49ad3c85-dc5e-4cb0-e04f-0e4f8a8cb706"
   },
   "outputs": [],
   "source": [
    "# Import Code Coverage Data\n",
    "\n",
    "BASE_PATH = '/home/jovyan/work/code_coverage_data/'\n",
    "# Number of slashes to skip to get to username in file path\n",
    "PARTICIPANT_NAME_SPLIT = 6\n",
    "\n",
    "df_file_coverage_dict_pma = {}\n",
    "df_file_coverage_dict_wp = {}\n",
    "\n",
    "i = 0\n",
    "for csv_file_coverage in glob.glob(f\"{BASE_PATH}phpMyAdmin/pma*/files.csv\"):\n",
    "  i += 1\n",
    "  participant_name = csv_file_coverage.split('/')[PARTICIPANT_NAME_SPLIT]\n",
    "  df = pd.read_csv(csv_file_coverage, header=None)\n",
    "  df_file_coverage_dict_pma[participant_name] = df\n",
    "print(f\"Processed {i} coverage files.\")\n",
    "\n",
    "i = 0\n",
    "for csv_file_coverage in glob.glob(f\"{BASE_PATH}WordPress/wp*/files.csv\"):\n",
    "  i += 1\n",
    "  participant_name = csv_file_coverage.split('/')[PARTICIPANT_NAME_SPLIT]\n",
    "  df = pd.read_csv(csv_file_coverage, header=None)\n",
    "  df_file_coverage_dict_wp[participant_name] = df\n",
    "print(f\"Processed {i} coverage files.\")"
   ]
  },
  {
   "cell_type": "code",
   "execution_count": null,
   "metadata": {},
   "outputs": [],
   "source": [
    "# Import Line Coverage Data\n",
    "\n",
    "df_line_coverage_dict_pma = {}\n",
    "df_line_coverage_dict_wp = {}\n",
    "\n",
    "i = 0\n",
    "for csv_line_coverage in glob.glob(f\"{BASE_PATH}phpMyAdmin/pma*/lines.csv\"):\n",
    "  i += 1\n",
    "  participant_name = csv_line_coverage.split('/')[PARTICIPANT_NAME_SPLIT]\n",
    "  df = pd.read_csv(csv_line_coverage, header=None)\n",
    "  df_line_coverage_dict_pma[participant_name] = df\n",
    "print(f\"Processed {i} coverage files.\")\n",
    "\n",
    "i = 0\n",
    "for csv_line_coverage in glob.glob(f\"{BASE_PATH}WordPress/wp*/lines.csv\"):\n",
    "  i += 1\n",
    "  participant_name = csv_line_coverage.split('/')[PARTICIPANT_NAME_SPLIT]\n",
    "  df = pd.read_csv(csv_line_coverage, header=None)\n",
    "  df_line_coverage_dict_wp[participant_name] = df\n",
    "print(f\"Processed {i} coverage files.\")\n"
   ]
  },
  {
   "cell_type": "code",
   "execution_count": null,
   "metadata": {},
   "outputs": [],
   "source": [
    "# Sanitize file names: Remove references to files that do not exist in the vanilla/main version of the web applications\n",
    "def webapp_file_exists(file_name, prefix, webapp_root):\n",
    "    file_name_mapped = webapp_root + file_name.replace(prefix, '')\n",
    "    if os.path.exists(file_name_mapped):\n",
    "        return True\n",
    "    else:\n",
    "        return False"
   ]
  },
  {
   "cell_type": "code",
   "execution_count": null,
   "metadata": {},
   "outputs": [],
   "source": [
    "# Remove non-existing files (eg plugins) from file coverage logs\n",
    "removed_files_dict = {}\n",
    "\n",
    "for participant in tqdm(df_file_coverage_dict_wp):\n",
    "    drop_index_list = []\n",
    "    for i in df_file_coverage_dict_wp[participant][0].index:\n",
    "        file_name = df_file_coverage_dict_wp[participant][0][i]\n",
    "        if not webapp_file_exists(file_name, '/var/www/html', 'files/WebApps/WP_Clusters/WordPress'):\n",
    "            # display(f\"Skipping {file_name}.\")\n",
    "            drop_index_list.append(i)\n",
    "            if participant not in removed_files_dict:\n",
    "                removed_files_dict[participant] = [file_name]\n",
    "            else:\n",
    "                removed_files_dict[participant].append(file_name)\n",
    "    df_file_coverage_dict_wp[participant][0] = df_file_coverage_dict_wp[participant][0].drop(drop_index_list)\n",
    "    df_file_coverage_dict_wp[participant].dropna(inplace=True)"
   ]
  },
  {
   "cell_type": "code",
   "execution_count": null,
   "metadata": {},
   "outputs": [],
   "source": [
    "# Remove non-existing file/lines (eg plugins) from line coverage logs\n",
    "for participant in tqdm(df_line_coverage_dict_wp):\n",
    "    drop_index_list = []\n",
    "    for idx, row in df_line_coverage_dict_wp[participant].iterrows():\n",
    "        if not df_file_coverage_dict_wp[participant][0].str.contains(row[0]).any():\n",
    "            drop_index_list.append(idx)\n",
    "    df_line_coverage_dict_wp[participant] = df_line_coverage_dict_wp[participant].drop(drop_index_list)\n",
    "    df_line_coverage_dict_wp[participant].dropna(inplace=True)"
   ]
  },
  {
   "cell_type": "code",
   "execution_count": null,
   "metadata": {},
   "outputs": [],
   "source": [
    "for p in removed_files_dict:\n",
    "    removed_files = len(removed_files_dict[p])\n",
    "    display(f\"Removed {removed_files} files from {p}.\")"
   ]
  },
  {
   "cell_type": "code",
   "execution_count": 2,
   "metadata": {},
   "outputs": [],
   "source": [
    "# Serialize data\n",
    "# Store\n",
    "# with open('df_line_coverage_dict.pickle', 'wb') as pkl:\n",
    "#     pickle.dump([df_line_coverage_dict_pma, df_line_coverage_dict_wp], pkl)\n",
    "# Retrieve\n",
    "with open('df_line_coverage_dict.pickle', 'rb') as pkl:\n",
    "    df_line_coverage_dict_pma, df_line_coverage_dict_wp = pickle.load(pkl)"
   ]
  },
  {
   "cell_type": "markdown",
   "metadata": {
    "tags": []
   },
   "source": [
    "### Add source code features"
   ]
  },
  {
   "cell_type": "markdown",
   "metadata": {
    "jp-MarkdownHeadingCollapsed": true,
    "tags": []
   },
   "source": [
    "#### Extract source code features"
   ]
  },
  {
   "cell_type": "code",
   "execution_count": null,
   "metadata": {},
   "outputs": [],
   "source": [
    "# Automate running php to generate NS jsons here\n",
    "# LIM/src_features.php\n",
    "# This container should also have PHP"
   ]
  },
  {
   "cell_type": "code",
   "execution_count": null,
   "metadata": {},
   "outputs": [],
   "source": [
    "def import_ns_df(json_path, path_prefix=None):\n",
    "    with open(json_path, 'r') as f:\n",
    "        ns_df = pd.read_json(f)\n",
    "        ns_df = ns_df.transpose().reset_index().rename(columns={'index': 'file_name'})\n",
    "        if path_prefix is not None:\n",
    "            ns_df['file_name'] = ns_df['file_name'].apply(lambda S:S.replace(path_prefix, ''))\n",
    "        return ns_df\n",
    "def import_func_df(json_path, path_prefix=None):\n",
    "    with open(json_path, 'r') as f:\n",
    "        func_json = json.load(f)\n",
    "        func_df = pd.DataFrame(columns=['file_name', 'function_name', 'start_line', 'end_line'])\n",
    "        for file_name in tqdm(func_json):\n",
    "            if len(func_json[file_name]) > 0: # File has functions\n",
    "                for func_name in func_json[file_name]:\n",
    "                    if path_prefix is not None:\n",
    "                        normalized_file_name = file_name.replace(path_prefix, '')\n",
    "                    else:\n",
    "                        normalized_file_name = file_name\n",
    "                    new_row = {'file_name': normalized_file_name, 'function_name': func_name, 'start_line': func_json[file_name][func_name]['start_line'], 'end_line': func_json[file_name][func_name]['end_line']}\n",
    "                    func_df = func_df.append(new_row, ignore_index=True)\n",
    "        return func_df"
   ]
  },
  {
   "cell_type": "code",
   "execution_count": null,
   "metadata": {},
   "outputs": [],
   "source": [
    "pma_ns_df = import_ns_df(BASE_PATH + 'LIM/stats/pma/ns_mapping.json', '/home/babak/RBD/rbd_dataanalysis/files/WebApps/PMA_Clusters/phpMyAdmin/')\n",
    "wp_ns_df = import_ns_df(BASE_PATH + 'LIM/stats/wp/ns_mapping.json', '/home/babak/RBD/rbd_dataanalysis/files/WebApps/WP_Clusters/WordPress/')\n",
    "mgt_ns_df = import_ns_df(BASE_PATH + 'LIM/stats/mgt/ns_mapping.json', '/home/babak/RBD/rbd_dataanalysis/files/WebApps/MGT_Clusters/magento2/')"
   ]
  },
  {
   "cell_type": "code",
   "execution_count": null,
   "metadata": {},
   "outputs": [],
   "source": [
    "pma_func_df = import_func_df(BASE_PATH + 'LIM/stats/pma/func_mapping.json', '/home/babak/RBD/rbd_dataanalysis/files/WebApps/PMA_Clusters/phpMyAdmin/')\n",
    "wp_func_df = import_func_df(BASE_PATH + 'LIM/stats/wp/func_mapping.json', '/home/babak/RBD/rbd_dataanalysis/files/WebApps/WP_Clusters/WordPress/')\n",
    "mgt_func_df = import_func_df(BASE_PATH + 'LIM/stats/mgt/func_mapping.json', '/home/babak/RBD/rbd_dataanalysis/files/WebApps/MGT_Clusters/magento2/')\n",
    "clear_output(wait=True)"
   ]
  },
  {
   "cell_type": "code",
   "execution_count": 4,
   "metadata": {},
   "outputs": [],
   "source": [
    "# Serialize data\n",
    "# Store\n",
    "# with open('df_src_features.pickle', 'wb') as pkl:\n",
    "#     pickle.dump([pma_ns_df, wp_ns_df, pma_func_df, wp_func_df], pkl)\n",
    "# Retrieve\n",
    "with open('df_src_features.pickle', 'rb') as pkl:\n",
    "    pma_ns_df, wp_ns_df, _, pma_func_df, wp_func_df, _ = pickle.load(pkl)"
   ]
  },
  {
   "cell_type": "markdown",
   "metadata": {
    "tags": []
   },
   "source": [
    "#### Map coverage to source code features"
   ]
  },
  {
   "cell_type": "code",
   "execution_count": null,
   "metadata": {},
   "outputs": [],
   "source": [
    "def get_covered_functions_dict(df_line_coverage_dict, func_df):\n",
    "    covered_functions_dict = {}\n",
    "    for participant in df_line_coverage_dict:\n",
    "        covered_functions_dict[participant] = set()\n",
    "        for index, line_coverage_row in tqdm(df_line_coverage_dict[participant].iterrows(), total=df_line_coverage_dict[participant].shape[0]):\n",
    "            file_name = line_coverage_row[0].replace('/var/www/html/', '')\n",
    "            line_number = line_coverage_row[1]\n",
    "            for index, func_map_row in func_df[func_df['file_name'] == file_name].iterrows():\n",
    "                if line_number >= func_map_row['start_line'] and line_number <= func_map_row['end_line']:\n",
    "                    covered_functions_dict[participant].add(func_map_row['function_name'])\n",
    "                    break\n",
    "        clear_output(wait=True)\n",
    "    return covered_functions_dict\n",
    "\n",
    "def get_covered_ns_dict(df_file_coverage_dict, ns_df):\n",
    "    covered_ns_dict = {}\n",
    "    for participant in df_file_coverage_dict:\n",
    "        covered_ns_dict[participant] = set()\n",
    "        for index, file_coverage_row in tqdm(df_file_coverage_dict[participant].iterrows(), total=df_file_coverage_dict[participant].shape[0]):\n",
    "            file_name = file_coverage_row[0].replace('/var/www/html/', '')\n",
    "            for index, ns_map_row in ns_df[ns_df['file_name'] == file_name].iterrows():\n",
    "                active_ns = ns_map_row['active_ns']\n",
    "                if len(active_ns) > 0:\n",
    "                    covered_ns_dict[participant].add(active_ns[0])\n",
    "                for used_ns in ns_map_row['used_ns']:\n",
    "                    covered_ns_dict[participant].add(used_ns)\n",
    "                break\n",
    "        clear_output(wait=True)\n",
    "    return covered_ns_dict"
   ]
  },
  {
   "cell_type": "code",
   "execution_count": null,
   "metadata": {},
   "outputs": [],
   "source": [
    "# Takes 30+ minutes, import from pickle file instead\n",
    "covered_ns_dict_pma = get_covered_ns_dict(df_file_coverage_dict_pma, pma_ns_df)\n",
    "covered_ns_dict_wp = get_covered_ns_dict(df_file_coverage_dict_wp, wp_ns_df)"
   ]
  },
  {
   "cell_type": "code",
   "execution_count": 5,
   "metadata": {},
   "outputs": [],
   "source": [
    "# Serialize data\n",
    "# Store\n",
    "# with open('df_covered_ns.pickle', 'wb') as pkl:\n",
    "#     pickle.dump([covered_ns_dict_pma, covered_ns_dict_wp], pkl)\n",
    "# Retrieve\n",
    "with open('df_covered_ns.pickle', 'rb') as pkl:\n",
    "    covered_ns_dict_pma, covered_ns_dict_wp, _ = pickle.load(pkl)"
   ]
  },
  {
   "cell_type": "code",
   "execution_count": null,
   "metadata": {},
   "outputs": [],
   "source": [
    "# Takes 1 day to run, import from pickle file instead\n",
    "covered_functions_dict_pma = get_covered_functions_dict(df_line_coverage_dict_pma, pma_func_df)\n",
    "covered_functions_dict_wp = get_covered_functions_dict(df_line_coverage_dict_wp, wp_func_df)"
   ]
  },
  {
   "cell_type": "code",
   "execution_count": 6,
   "metadata": {},
   "outputs": [],
   "source": [
    "# Serialize data\n",
    "# Store\n",
    "# with open('df_covered_functions.pickle', 'wb') as pkl:\n",
    "#     pickle.dump([covered_functions_dict_pma, covered_functions_dict_wp], pkl)\n",
    "# Retrieve\n",
    "with open('df_covered_functions.pickle', 'rb') as pkl:\n",
    "    covered_functions_dict_pma, covered_functions_dict_wp, _ = pickle.load(pkl)"
   ]
  },
  {
   "cell_type": "markdown",
   "metadata": {
    "id": "rHJu9vbM1-AZ",
    "tags": []
   },
   "source": [
    "## Clustering"
   ]
  },
  {
   "cell_type": "markdown",
   "metadata": {
    "tags": []
   },
   "source": [
    "### Clustering by NS/Function calls"
   ]
  },
  {
   "cell_type": "markdown",
   "metadata": {
    "tags": []
   },
   "source": [
    "#### Vectorize"
   ]
  },
  {
   "cell_type": "code",
   "execution_count": null,
   "metadata": {},
   "outputs": [],
   "source": [
    "def merge_features_to_doc(ns_dict, functions_dict, covered_files_dict, participants):\n",
    "    corpus = []\n",
    "    for participant in tqdm(participants):\n",
    "        corpus.append([])\n",
    "        for index, file in covered_files_dict[participant].iterrows():\n",
    "            if file[0] is not None:\n",
    "                file_name = file[0].replace('/var/www/html/', '')\n",
    "                if file_name not in corpus[-1]:\n",
    "                    corpus[-1].append(file_name)\n",
    "        for ns in ns_dict[participant]:\n",
    "            if ns is not None:\n",
    "                ns = ns.replace('\\\\', ' ')\n",
    "                if ns not in corpus[-1]:\n",
    "                    corpus[-1].append(ns)\n",
    "        for func in functions_dict[participant]:\n",
    "            if func is not None:\n",
    "                func = func.replace('\\\\', ' ')\n",
    "                if func not in corpus[-1]:\n",
    "                    corpus[-1].append(func)\n",
    "    for i in range(0, len(corpus)):\n",
    "        corpus[i] = ' '.join(corpus[i]).replace('/', '')\n",
    "    return corpus"
   ]
  },
  {
   "cell_type": "code",
   "execution_count": null,
   "metadata": {},
   "outputs": [],
   "source": [
    "corpus_pma = merge_features_to_doc(covered_ns_dict_pma, covered_functions_dict_pma, df_file_coverage_dict_pma, covered_functions_dict_pma.keys())\n",
    "corpus_wp = merge_features_to_doc(covered_ns_dict_wp, covered_functions_dict_wp, df_file_coverage_dict_wp, covered_functions_dict_wp.keys())"
   ]
  },
  {
   "cell_type": "code",
   "execution_count": null,
   "metadata": {},
   "outputs": [],
   "source": [
    "# Count the number of features\n",
    "vectorizer = CountVectorizer(binary=True)\n",
    "ns_func_vectors_pma = vectorizer.fit_transform(corpus_pma)\n",
    "df_count_ns_func_pma = pd.DataFrame(ns_func_vectors_pma.toarray(),columns=vectorizer.get_feature_names_out())\n",
    "ns_func_vectors_wp = vectorizer.fit_transform(corpus_wp)\n",
    "df_count_ns_func_wp = pd.DataFrame(ns_func_vectors_wp.toarray(),columns=vectorizer.get_feature_names_out())"
   ]
  },
  {
   "cell_type": "markdown",
   "metadata": {
    "tags": []
   },
   "source": [
    "#### Clustering"
   ]
  },
  {
   "cell_type": "code",
   "execution_count": null,
   "metadata": {},
   "outputs": [],
   "source": [
    "def similarity_metric(x, y): # Jaccard similarity (A Intersection B / A Union B)\n",
    "    matching_coverages = 0\n",
    "    extra_coverages = 0\n",
    "    for index in range(0, len(x)):\n",
    "        if x[index] == 1:\n",
    "            if x[index] == y[index]:\n",
    "                matching_coverages += 1\n",
    "            else:\n",
    "                extra_coverages += 1\n",
    "        elif y[index] == 1:\n",
    "            extra_coverages += 1\n",
    "    if matching_coverages == 0:\n",
    "        similarity = 0\n",
    "    else:\n",
    "        similarity = matching_coverages / (matching_coverages + extra_coverages)\n",
    "    return similarity\n",
    "\n",
    "def get_spectral_models(num_participants, df_tfidf):\n",
    "    spectral_models = {}\n",
    "    for i in range(1, num_participants + 1):\n",
    "        distance_array = pairwise_distances(df_tfidf, metric=similarity_metric)\n",
    "        current_model = SpectralClustering(n_clusters=i, affinity='precomputed').fit(distance_array)\n",
    "        spectral_models[i] = current_model\n",
    "    return spectral_models\n",
    "\n",
    "def get_spectral_labels(participants, spectral_models):\n",
    "    df_spectrals = pd.DataFrame()\n",
    "    df_spectrals['participant'] = participants\n",
    "    for i in range(1, len(participants) + 1):\n",
    "        col_name = str(i) + '_clusters'\n",
    "        df_spectrals[col_name] = spectral_models[i].labels_\n",
    "    return df_spectrals"
   ]
  },
  {
   "cell_type": "code",
   "execution_count": null,
   "metadata": {},
   "outputs": [],
   "source": [
    "spectral_models_pma = get_spectral_models(len(covered_functions_dict_pma.keys()), df_count_ns_func_pma)\n",
    "spectral_models_wp = get_spectral_models(len(covered_functions_dict_wp.keys()), df_count_ns_func_wp)"
   ]
  },
  {
   "cell_type": "code",
   "execution_count": null,
   "metadata": {},
   "outputs": [],
   "source": [
    "spectral_models_pma_labels = get_spectral_labels(covered_functions_dict_pma.keys(), spectral_models_pma)\n",
    "spectral_models_wp_labels = get_spectral_labels(covered_functions_dict_wp.keys(), spectral_models_wp)"
   ]
  },
  {
   "cell_type": "code",
   "execution_count": null,
   "metadata": {},
   "outputs": [],
   "source": [
    "# Print members of each cluster for various cluster sizes\n",
    "for debloating in spectral_models_pma_labels.columns[1:]:\n",
    "    display(f\"{debloating}: {Counter(spectral_models_pma_labels[debloating]).values()}\")"
   ]
  },
  {
   "cell_type": "code",
   "execution_count": null,
   "metadata": {},
   "outputs": [],
   "source": [
    "# Print members of each cluster for various cluster sizes\n",
    "for debloating in spectral_models_wp_labels.columns[1:]:\n",
    "    display(f\"{debloating}: {Counter(spectral_models_wp_labels[debloating]).values()}\")"
   ]
  },
  {
   "cell_type": "code",
   "execution_count": 7,
   "metadata": {},
   "outputs": [
    {
     "name": "stderr",
     "output_type": "stream",
     "text": [
      "/opt/conda/lib/python3.9/site-packages/sklearn/base.py:329: UserWarning: Trying to unpickle estimator SpectralClustering from version 1.0.1 when using version 1.1.1. This might lead to breaking code or invalid results. Use at your own risk. For more info please refer to:\n",
      "https://scikit-learn.org/stable/model_persistence.html#security-maintainability-limitations\n",
      "  warnings.warn(\n"
     ]
    }
   ],
   "source": [
    "# Serialize data\n",
    "# Store\n",
    "# with open('spectral_v2_models.pickle', 'wb') as pkl:\n",
    "#     pickle.dump([spectral_models_v2_pma, spectral_models_v2_wp, spectral_models_v2_mgt, spectral_models_v2_pma_labels, spectral_models_v2_wp_labels, spectral_models_v2_mgt_labels], pkl)\n",
    "# Retrieve\n",
    "with open('spectral_models.pickle', 'rb') as pkl:\n",
    "    spectral_models_pma, spectral_models_wp, _, spectral_models_pma_labels, spectral_models_wp_labels, _ = pickle.load(pkl)"
   ]
  },
  {
   "cell_type": "markdown",
   "metadata": {
    "tags": []
   },
   "source": [
    "#### Evaluate clusters"
   ]
  },
  {
   "cell_type": "code",
   "execution_count": null,
   "metadata": {},
   "outputs": [],
   "source": [
    "def plot_covered_functions(df_participant_cluster_mapping, function_coverage_dict, selected_clusters=range(1, 21), plot=True):\n",
    "    avg_functions = []\n",
    "    for cluster_size in selected_clusters:\n",
    "        cluster_functions = []\n",
    "        for cluster_id in range(0, cluster_size):\n",
    "            users_in_cluster = df_participant_cluster_mapping[df_participant_cluster_mapping[f\"{cluster_size}_clusters\"] == cluster_id]['participant']\n",
    "            covered_functions = set()\n",
    "            for user in users_in_cluster:\n",
    "                covered_functions |= set(function_coverage_dict[user])\n",
    "            cluster_functions.append(len(covered_functions))\n",
    "        avg_function_calls = sum(cluster_functions) / len(cluster_functions)\n",
    "        avg_functions.append(avg_function_calls)\n",
    "    if plot == True:\n",
    "        fig, ax = plt.subplots(figsize=(6, 3))\n",
    "        ax.plot(range(1, 21), avg_functions)\n",
    "        ax.set_xticks(range(1, 21))\n",
    "        ax.spines['bottom'].set_color('0.5')\n",
    "        ax.spines['left'].set_color('0.5')\n",
    "        ax.grid(axis='x')\n",
    "        ax.set_xlabel('Number of roles', fontsize=14)\n",
    "        ax.set_ylabel('Number of functions', fontsize=14)\n",
    "        fig.show()\n",
    "    else:\n",
    "        display(avg_functions)"
   ]
  },
  {
   "cell_type": "markdown",
   "metadata": {
    "tags": []
   },
   "source": [
    "#### Spectral"
   ]
  },
  {
   "cell_type": "code",
   "execution_count": null,
   "metadata": {},
   "outputs": [],
   "source": [
    "spectral_models_pma_labels['20_clusters'] = spectral_models_pma_labels['19_clusters']\n",
    "spectral_models_wp_labels['20_clusters'] = spectral_models_wp_labels['19_clusters']"
   ]
  },
  {
   "cell_type": "markdown",
   "metadata": {
    "tags": []
   },
   "source": [
    "##### Visuals"
   ]
  },
  {
   "cell_type": "code",
   "execution_count": 127,
   "metadata": {},
   "outputs": [
    {
     "data": {
      "image/png": "[encoded data removed]",
      "text/plain": [
       "<Figure size 432x216 with 1 Axes>"
      ]
     },
     "metadata": {},
     "output_type": "display_data"
    }
   ],
   "source": [
    "plt.rcParams[\"font.family\"] = \"sans\"\n",
    "\n",
    "fig, ax = plt.subplots(1, 1, sharex=True, figsize=(6, 3), facecolor='white')\n",
    "\n",
    "df_participant_cluster_mapping = spectral_models_pma_labels\n",
    "function_coverage_dict = covered_functions_dict_pma\n",
    "selected_clusters=range(1, 21)\n",
    "\n",
    "avg_functions = []\n",
    "max_size = 0\n",
    "for cluster_size in selected_clusters:\n",
    "    cluster_functions = []\n",
    "    for cluster_id in range(0, cluster_size):\n",
    "        users_in_cluster = df_participant_cluster_mapping[df_participant_cluster_mapping[f\"{cluster_size}_clusters\"] == cluster_id]['participant']\n",
    "        covered_functions = set()\n",
    "        for user in users_in_cluster:\n",
    "            covered_functions |= set(function_coverage_dict[user])\n",
    "        cluster_functions.append(len(covered_functions))\n",
    "    avg_function_calls = sum(cluster_functions) / len(cluster_functions)\n",
    "    # avg_function_calls = avg_function_calls * avg_function_calls\n",
    "    max_size = max([max_size, avg_function_calls])\n",
    "    avg_functions.append(avg_function_calls / max_size)\n",
    "ax.plot(range(1, 21), avg_functions, linewidth=1, ls='-', color='black')\n",
    "\n",
    "df_participant_cluster_mapping = spectral_models_wp_labels\n",
    "function_coverage_dict = covered_functions_dict_wp\n",
    "selected_clusters=range(1, 21)\n",
    "\n",
    "avg_functions = []\n",
    "max_size = 0\n",
    "for cluster_size in selected_clusters:\n",
    "    cluster_functions = []\n",
    "    for cluster_id in range(0, cluster_size):\n",
    "        users_in_cluster = df_participant_cluster_mapping[df_participant_cluster_mapping[f\"{cluster_size}_clusters\"] == cluster_id]['participant']\n",
    "        covered_functions = set()\n",
    "        for user in users_in_cluster:\n",
    "            covered_functions |= set(function_coverage_dict[user])\n",
    "        cluster_functions.append(len(covered_functions))\n",
    "    avg_function_calls = sum(cluster_functions) / len(cluster_functions)\n",
    "    max_size = max([max_size, avg_function_calls])\n",
    "    avg_functions.append(avg_function_calls / max_size)\n",
    "ax.plot(range(1, 21), avg_functions, linewidth=1, ls='-.', color='black')\n",
    "    \n",
    "ax.set_xticks(range(1, 21))\n",
    "ax.spines['bottom'].set_color('0.25')\n",
    "ax.spines['left'].set_color('0.25')\n",
    "ax.spines['top'].set_color('1')\n",
    "ax.spines['right'].set_color('1')\n",
    "    \n",
    "lgd = ax.legend(['phpMyAdmin', 'WordPress', 'Magento'], fontsize=13, facecolor='white', frameon=True, framealpha=0.75)\n",
    "ax.set_facecolor('white')\n",
    "fig.text(0.5, -0.05, 'Number of roles', ha='center', fontsize=14)\n",
    "fig.text(0, 0.5, 'Relative number of functions', va='center', rotation='vertical', fontsize=14)\n",
    "    \n",
    "ax.grid(visible=True, axis='y', which='major', color=(0.8, 0.8, 0.8), linestyle='-')\n",
    "    \n",
    "COLOR = 'black'\n",
    "plt.rcParams['text.color'] = COLOR\n",
    "plt.rcParams['axes.labelcolor'] = COLOR\n",
    "plt.rcParams['xtick.color'] = COLOR\n",
    "plt.rcParams['ytick.color'] = COLOR\n",
    "plt.rcParams['axes.edgecolor'] = COLOR\n",
    "    \n",
    "fig.show()"
   ]
  },
  {
   "cell_type": "markdown",
   "metadata": {
    "tags": []
   },
   "source": [
    "### Optimal Cluster Size"
   ]
  },
  {
   "cell_type": "code",
   "execution_count": 82,
   "metadata": {},
   "outputs": [],
   "source": [
    "optimal_spectral_cluster_size_pma = 6\n",
    "optimal_spectral_cluster_size_wp = 7"
   ]
  },
  {
   "cell_type": "code",
   "execution_count": null,
   "metadata": {},
   "outputs": [],
   "source": [
    "display('PMA: ')\n",
    "plot_covered_functions(spectral_models_pma_labels, covered_functions_dict_pma, [optimal_spectral_cluster_size_pma], False)\n",
    "display('WP: ')\n",
    "plot_covered_functions(spectral_models_wp_labels, covered_functions_dict_wp, [optimal_spectral_cluster_size_wp], False)"
   ]
  },
  {
   "cell_type": "code",
   "execution_count": null,
   "metadata": {
    "id": "mJZ56fPCwijs"
   },
   "outputs": [],
   "source": [
    "kmeans_models_pma = {}\n",
    "kmeans_models_wp = {}\n",
    "kmeans_models_mgt = {}\n",
    "\n",
    "def get_kmeans_models(df_file_coverage_dict, df_tfidf):\n",
    "  kmeans_models = {}\n",
    "  for i in range(1, len(df_file_coverage_dict.items()) + 1):\n",
    "    current_kmean = KMeans(n_clusters=i).fit(df_tfidf)\n",
    "    kmeans_models[i] = current_kmean\n",
    "  return kmeans_models\n",
    "\n",
    "kmeans_models_pma = get_kmeans_models(df_file_coverage_dict_pma, df_tfidf_pma)\n",
    "kmeans_models_wp = get_kmeans_models(df_file_coverage_dict_wp, df_tfidf_wp)\n",
    "kmeans_models_mgt = get_kmeans_models(df_file_coverage_dict_mgt, df_tfidf_mgt)"
   ]
  },
  {
   "cell_type": "code",
   "execution_count": null,
   "metadata": {
    "id": "0Mpa36Vy2P88"
   },
   "outputs": [],
   "source": [
    "def get_kmeans_labels(df_file_coverage_dict, kmeans_models):\n",
    "  df_kmeans = pd.DataFrame()\n",
    "  df_kmeans['participant'] = [p[0] for p in df_file_coverage_dict.items()]\n",
    "  for i in range(1, len(df_file_coverage_dict.items()) + 1):\n",
    "    col_name = str(i) + 'means_label'\n",
    "    df_kmeans[col_name] = kmeans_models[i].labels_\n",
    "  return df_kmeans\n",
    "\n",
    "df_kmeans_pma = get_kmeans_labels(df_file_coverage_dict_pma, kmeans_models_pma)\n",
    "df_kmeans_wp = get_kmeans_labels(df_file_coverage_dict_wp, kmeans_models_wp)\n",
    "df_kmeans_mgt = get_kmeans_labels(df_file_coverage_dict_mgt, kmeans_models_mgt)"
   ]
  },
  {
   "cell_type": "code",
   "execution_count": null,
   "metadata": {},
   "outputs": [],
   "source": [
    "# Serialize data\n",
    "# Store\n",
    "with open('df_kmeans_fix.pickle', 'wb') as pkl:\n",
    "    pickle.dump([df_kmeans_pma, df_kmeans_wp, df_kmeans_mgt], pkl)\n",
    "# Retrieve\n",
    "# with open('df_kmeans.pickle', 'rb') as pkl:\n",
    "#     df_kmeans_pma, df_kmeans_wp, df_kmeans_mgt = pickle.load(pkl)"
   ]
  },
  {
   "cell_type": "markdown",
   "metadata": {
    "id": "V27t7tCOxBya",
    "jp-MarkdownHeadingCollapsed": true,
    "tags": []
   },
   "source": [
    "##### K-means participant labels"
   ]
  },
  {
   "cell_type": "code",
   "execution_count": null,
   "metadata": {
    "id": "OF3kP1WC2vpL"
   },
   "outputs": [],
   "source": [
    "df_kmeans_mgt"
   ]
  },
  {
   "cell_type": "code",
   "execution_count": null,
   "metadata": {},
   "outputs": [],
   "source": [
    "dbscan_models_pma = {}\n",
    "dbscan_models_wp = {}\n",
    "dbscan_models_mgt = {}\n",
    "\n",
    "def get_dbscan_models(df_file_coverage_dict, df_tfidf):\n",
    "  dbscan_models = {}\n",
    "  for i in range(1, len(df_file_coverage_dict.items()) + 1):\n",
    "    distance_array = pairwise_distances(df_tfidf, metric='cosine')\n",
    "    current_dbscan = DBSCAN(eps=0.7, min_samples=i, metric='precomputed').fit(distance_array)\n",
    "    dbscan_models[i] = current_dbscan\n",
    "  return dbscan_models\n",
    "\n",
    "dbscan_models_pma = get_dbscan_models(df_file_coverage_dict_pma, df_tfidf_pma)\n",
    "dbscan_models_wp = get_dbscan_models(df_file_coverage_dict_wp, df_tfidf_wp)\n",
    "dbscan_models_mgt = get_dbscan_models(df_file_coverage_dict_mgt, df_tfidf_mgt)"
   ]
  },
  {
   "cell_type": "code",
   "execution_count": null,
   "metadata": {},
   "outputs": [],
   "source": [
    "def get_dbscan_labels(df_file_coverage_dict, dbscan_models):\n",
    "  df_dbscan = pd.DataFrame()\n",
    "  df_dbscan['participant'] = [p[0] for p in df_file_coverage_dict.items()]\n",
    "  for i in range(1, len(df_file_coverage_dict.items()) + 1):\n",
    "    col_name = str(i) + 'dbscan_label'\n",
    "    df_dbscan[col_name] = dbscan_models[i].labels_\n",
    "  return df_dbscan\n",
    "\n",
    "df_dbscan_pma = get_dbscan_labels(df_file_coverage_dict_pma, dbscan_models_pma)\n",
    "df_dbscan_wp = get_dbscan_labels(df_file_coverage_dict_wp, dbscan_models_wp)\n",
    "df_dbscan_mgt = get_dbscan_labels(df_file_coverage_dict_mgt, dbscan_models_mgt)"
   ]
  },
  {
   "cell_type": "code",
   "execution_count": null,
   "metadata": {},
   "outputs": [],
   "source": [
    "for i in range(1, 20):\n",
    "    labels = dbscan_models_pma[i].labels_\n",
    "    n_clusters_ = len(set(labels)) - (1 if -1 in labels else 0) + (Counter(labels)[-1])\n",
    "    outliers = Counter(labels)[-1]\n",
    "    display('Estimated number of %d min_sample clusters: %d and outliers: %d' % (i, n_clusters_, outliers))"
   ]
  },
  {
   "cell_type": "code",
   "execution_count": null,
   "metadata": {},
   "outputs": [],
   "source": [
    "for i in range(1, 20):\n",
    "    labels = dbscan_models_wp[i].labels_\n",
    "    n_clusters_ = len(set(labels)) - (1 if -1 in labels else 0) + (Counter(labels)[-1])\n",
    "    outliers = Counter(labels)[-1]\n",
    "    display('Estimated number of %d min_sample clusters: %d and outliers: %d' % (i, n_clusters_, outliers))"
   ]
  },
  {
   "cell_type": "code",
   "execution_count": null,
   "metadata": {},
   "outputs": [],
   "source": [
    "for i in range(1, 20):\n",
    "    labels = dbscan_models_mgt[i].labels_\n",
    "    n_clusters_ = len(set(labels)) - (1 if -1 in labels else 0) + (Counter(labels)[-1])\n",
    "    outliers = Counter(labels)[-1]\n",
    "    display('Estimated number of %d min_sample clusters: %d and outliers: %d' % (i, n_clusters_, outliers))"
   ]
  },
  {
   "cell_type": "code",
   "execution_count": null,
   "metadata": {},
   "outputs": [],
   "source": [
    "dbscan_pma_optimal_size = 1 # 3\n",
    "dbscan_wp_optimal_size = 1 # 2\n",
    "dbscan_mgt_optimal_size = 1 # 6\n",
    "\n",
    "df_dbscan_pma = df_dbscan_pma[['participant', f\"{dbscan_pma_optimal_size}dbscan_label\"]]\n",
    "df_dbscan_wp = df_dbscan_wp[['participant', f\"{dbscan_wp_optimal_size}dbscan_label\"]]\n",
    "df_dbscan_mgt = df_dbscan_mgt[['participant', f\"{dbscan_mgt_optimal_size}dbscan_label\"]]"
   ]
  },
  {
   "cell_type": "code",
   "execution_count": null,
   "metadata": {},
   "outputs": [],
   "source": [
    "# Serialize data\n",
    "# Store\n",
    "with open('df_dbscan_fix.pickle', 'wb') as pkl:\n",
    "    pickle.dump([df_dbscan_pma, df_dbscan_wp, df_dbscan_mgt], pkl)\n",
    "# Retrieve\n",
    "# with open('df_kmeans.pickle', 'rb') as pkl:\n",
    "#     df_kmeans_pma, df_kmeans_wp, df_kmeans_mgt = pickle.load(pkl)"
   ]
  },
  {
   "cell_type": "markdown",
   "metadata": {
    "tags": []
   },
   "source": [
    "## Generate artifacts"
   ]
  },
  {
   "cell_type": "markdown",
   "metadata": {
    "id": "YMum1nTjMbPP",
    "tags": []
   },
   "source": [
    "### Generate and write CSV Coverage info of clusters"
   ]
  },
  {
   "cell_type": "code",
   "execution_count": 79,
   "metadata": {
    "id": "inEiBnmqMi4t"
   },
   "outputs": [],
   "source": [
    "# Get list of users in each cluster\n",
    "def get_cluster_of_profiles(df_model_labels):\n",
    "    profile_clusters = {}\n",
    "    for cluster in df_model_labels.columns[1:]: # 1_clusters 2_clusters 3_clusters ...\n",
    "        profile_clusters[cluster] = {}\n",
    "        for idx, row in df_model_labels.iterrows():\n",
    "            participant_name = row['participant']\n",
    "            participant_cluster = row[cluster]\n",
    "            if participant_cluster not in profile_clusters[cluster]:\n",
    "                profile_clusters[cluster][participant_cluster] = [participant_name]\n",
    "            else:\n",
    "                profile_clusters[cluster][participant_cluster].append(participant_name)\n",
    "    return profile_clusters"
   ]
  },
  {
   "cell_type": "code",
   "execution_count": 80,
   "metadata": {},
   "outputs": [],
   "source": [
    "# Generate the mapping of users to clusters (ie Roles)\n",
    "profile_cluster_spectral_pma = get_cluster_of_profiles(spectral_models_pma_labels)\n",
    "profile_cluster_spectral_wp = get_cluster_of_profiles(spectral_models_wp_labels)"
   ]
  },
  {
   "cell_type": "code",
   "execution_count": null,
   "metadata": {
    "colab": {
     "base_uri": "https://localhost:8080/",
     "height": 35
    },
    "id": "2Qo5W-ywMnMP",
    "outputId": "a589d9e6-19ae-4624-a256-6eb23f701d66"
   },
   "outputs": [],
   "source": [
    "# Fetch and merge their coverage info\n",
    "def merge_line_coverage_dict(coverage_dict, dirname):\n",
    "  df = {}\n",
    "  for profile in coverage_dict:\n",
    "    df[profile] = merge_line_coverage_profile(coverage_dict[profile], dirname)\n",
    "  return df\n",
    "\n",
    "def merge_line_coverage_profile(profile_names_list, dirname):\n",
    "  df = pd.DataFrame()\n",
    "  # print(profile_names_list)\n",
    "  for profile in profile_names_list:\n",
    "    df = pd.concat([df, pd.read_csv(f\"{BASE_PATH}{dirname}/{profile}/lines.csv\", header=None, names=['filename', 'linenumber'])]).drop_duplicates().reset_index(drop=True)\n",
    "  return df\n",
    "    \n",
    "def merge_line_coverage_profiles(profile_clusters, dirname):\n",
    "  df_merged_line_coverage = {}\n",
    "  total_files = 0\n",
    "  for clustering in profile_clusters:\n",
    "    clear_output(wait=True)\n",
    "    display(f\"Processing {clustering}\")\n",
    "    total_files += 1\n",
    "    df_merged_line_coverage[clustering] = merge_line_coverage_dict(profile_clusters[clustering], dirname)\n",
    "  clear_output(wait=True)\n",
    "  display(f\"Finished processing {total_files} files.\")\n",
    "  return df_merged_line_coverage"
   ]
  },
  {
   "cell_type": "code",
   "execution_count": null,
   "metadata": {},
   "outputs": [],
   "source": [
    "# Merge the line coverage of all users in each cluster (role) for debloating\n",
    "df_merged_line_coverage_spectral_pma = merge_line_coverage_profiles(profile_cluster_spectral_pma, 'phpMyAdmin')\n",
    "df_merged_line_coverage_spectral_wp = merge_line_coverage_profiles(profile_cluster_spectral_wp, 'WordPress')"
   ]
  },
  {
   "cell_type": "code",
   "execution_count": null,
   "metadata": {},
   "outputs": [],
   "source": [
    "def get_keys_from_merged_df(df_merged_line_coverage, cluster_id):\n",
    "    return df_merged_line_coverage[list(df_merged_line_coverage.keys())[cluster_id-1]]"
   ]
  },
  {
   "cell_type": "code",
   "execution_count": null,
   "metadata": {},
   "outputs": [],
   "source": [
    "df_merged_line_coverage_spectral_pma = get_keys_from_merged_df(df_merged_line_coverage_spectral_pma, optimal_spectral_cluster_size_pma)\n",
    "df_merged_line_coverage_spectral_wp = get_keys_from_merged_df(df_merged_line_coverage_spectral_wp, optimal_spectral_cluster_size_wp)"
   ]
  },
  {
   "cell_type": "code",
   "execution_count": null,
   "metadata": {},
   "outputs": [],
   "source": [
    "def write_csv_line_coverage(df_merged_line_coverage, dirname):\n",
    "  total_files = 0\n",
    "  for cluster_id in df_merged_line_coverage:\n",
    "      coverage_csv_filepath = f\"{BASE_PATH}{dirname}/{cluster_id}_lines.csv\"\n",
    "      clear_output(wait=True)\n",
    "      display(f\"Writing to {coverage_csv_filepath}\")\n",
    "      Path(f\"{BASE_PATH}{dirname}/\").mkdir(parents=True, exist_ok=True)\n",
    "      display(cluster_id)\n",
    "      df_merged_line_coverage[cluster_id].to_csv(coverage_csv_filepath, sep=',')\n",
    "      total_files += 1\n",
    "  clear_output(wait=True) \n",
    "  display(f\"Finished writing {total_files} files.\")"
   ]
  },
  {
   "cell_type": "code",
   "execution_count": null,
   "metadata": {},
   "outputs": [],
   "source": [
    "# Produce a line coverage csv for each cluster and write to disk\n",
    "write_csv_line_coverage(df_merged_line_coverage_spectral_pma, 'phpMyAdmin_clusters_spectral')\n",
    "write_csv_line_coverage(df_merged_line_coverage_spectral_wp,  'WordPress_clusters_spectral')"
   ]
  },
  {
   "cell_type": "code",
   "execution_count": 8,
   "metadata": {},
   "outputs": [],
   "source": [
    "# Serialize data\n",
    "# Store\n",
    "# with open('df_merged_line_coverage_spectral.pickle', 'wb') as pkl:\n",
    "#     pickle.dump([df_merged_line_coverage_spectral_pma, df_merged_line_coverage_spectral_wp], pkl)\n",
    "\n",
    "# Retrieve\n",
    "with open('df_merged_line_coverage_spectral.pickle', 'rb') as pkl:\n",
    "    df_merged_line_coverage_spectral_pma, df_merged_line_coverage_spectral_wp = pickle.load(pkl)"
   ]
  },
  {
   "cell_type": "code",
   "execution_count": 14,
   "metadata": {
    "id": "KDedxtYyEnNS"
   },
   "outputs": [],
   "source": [
    "# Generate dirnames\n",
    "def generate_dirnames(df_merged_line_coverage, webapp_name):\n",
    "    num_clusters = len(df_merged_line_coverage)\n",
    "    dir_names_list = []\n",
    "    for cluster in df_merged_line_coverage.keys():\n",
    "        dir_names_list.append(f\"{webapp_name}_Clusters/{webapp_name}_{cluster}\")    \n",
    "    return dir_names_list\n",
    "\n",
    "def generate_base_dirs(source_dir, dir_names_list):\n",
    "    for dir_name in tqdm(dir_names_list):\n",
    "        copytree(source_dir, f\"./webapps/{dir_name}\")"
   ]
  },
  {
   "cell_type": "code",
   "execution_count": 58,
   "metadata": {},
   "outputs": [
    {
     "name": "stderr",
     "output_type": "stream",
     "text": [
      "100%|██████████| 6/6 [11:44<00:00, 117.48s/it]\n",
      "100%|██████████| 7/7 [04:48<00:00, 41.27s/it]\n"
     ]
    }
   ],
   "source": [
    "pma_source_dir = \"./webapps/phpMyAdmin\"\n",
    "wp_source_dir =  \"./webapps/WordPress\"\n",
    "\n",
    "# SPECTRAL\n",
    "pma_dir_names_spectral = generate_dirnames(df_merged_line_coverage_spectral_pma, 'PMA_spectral')\n",
    "wp_dir_names_spectral = generate_dirnames(df_merged_line_coverage_spectral_wp, 'WP_spectral')\n",
    "# Create N dirs\n",
    "generate_base_dirs(pma_source_dir, pma_dir_names_spectral)\n",
    "generate_base_dirs(wp_source_dir, wp_dir_names_spectral)"
   ]
  },
  {
   "cell_type": "code",
   "execution_count": 67,
   "metadata": {},
   "outputs": [],
   "source": [
    "# Debloat the apps\n",
    "def debloat_app(clusters_dir, webapp_prefix, dir_names, df_merged_line_coverage, label):\n",
    "    for dir_name in tqdm(dir_names):\n",
    "        cluster_filename_splitlist = dir_name.split('/')[-1].split('_')\n",
    "        cluster_id = int(cluster_filename_splitlist[-1])\n",
    "        csv_line_coverage = df_merged_line_coverage[cluster_id]\n",
    "        # display(f\"XDEBUG_MODE=off php -d memory_limit=512M LIM/debloat.php \" \\\n",
    "        #         f\"code_coverage_data/{clusters_dir}_{label}/{cluster_id}_lines.csv \" \\\n",
    "        #         f\"webapps/{dir_name}\")\n",
    "        subprocess.call(f\"XDEBUG_MODE=off php -d memory_limit=512M LIM/debloat.php \" \\\n",
    "                        f\"code_coverage_data/{clusters_dir}_{label}/{cluster_id}_lines.csv \" \\\n",
    "                        f\"WebApps/{dir_name}\",\n",
    "                        shell=True, \n",
    "                        stdout=subprocess.DEVNULL,\n",
    "                        stderr=subprocess.STDOUT)\n",
    "        clear_output(wait=True)"
   ]
  },
  {
   "cell_type": "code",
   "execution_count": 68,
   "metadata": {},
   "outputs": [
    {
     "name": "stderr",
     "output_type": "stream",
     "text": [
      "100%|██████████| 7/7 [02:13<00:00, 19.04s/it]\n"
     ]
    }
   ],
   "source": [
    "# Debloat the apps\n",
    "debloat_app('phpMyAdmin_clusters', 'PMA_spectral', pma_dir_names_spectral, df_merged_line_coverage_spectral_pma, 'spectral')\n",
    "debloat_app('WordPress_clusters', 'WP_spectral', wp_dir_names_spectral, df_merged_line_coverage_spectral_wp, 'spectral')"
   ]
  },
  {
   "cell_type": "markdown",
   "metadata": {
    "tags": []
   },
   "source": [
    "### Generate Docker Environment Files"
   ]
  },
  {
   "cell_type": "code",
   "execution_count": 129,
   "metadata": {},
   "outputs": [],
   "source": [
    "def generate_redis_mapping(dict_user_cluster_id_mapping, label, mappings_file='mappings.txt'):\n",
    "    # dict_user_cluster_id_mapping => {'username': cluster_id}\n",
    "    display(f\"Generating {mappings_file}.\")\n",
    "    prefix = label.upper().split('_')[0]\n",
    "    with open(mappings_file, 'w') as f:\n",
    "        for user in dict_user_cluster_id_mapping:\n",
    "            cluster_id = dict_user_cluster_id_mapping[user]\n",
    "            f.write(f\"SET MP_{prefix}_{user.lower()} {cluster_id}\\n\")\n",
    "            \n",
    "def generate_all_redis_mappings(cluster_size, profile_cluster_mapping, label):\n",
    "    filename = f\"webapps/{label}_Clusters/redis_mappings/{label}_mappings_{cluster_size}.txt\"\n",
    "    dict_user_cluster_id_mapping = {}\n",
    "    for cluster_id in profile_cluster_mapping:\n",
    "        for participant in profile_cluster_mapping[cluster_id]:\n",
    "            username = '_'.join(participant.split('_')[1:])\n",
    "            dict_user_cluster_id_mapping[username] = cluster_id\n",
    "    generate_redis_mapping(dict_user_cluster_id_mapping, label, filename)"
   ]
  },
  {
   "cell_type": "code",
   "execution_count": 130,
   "metadata": {},
   "outputs": [],
   "source": [
    "generate_all_redis_mappings(optimal_spectral_cluster_size_pma, profile_cluster_spectral_pma[f\"{optimal_spectral_cluster_size_pma}_clusters\"], 'PMA_spectral')\n",
    "generate_all_redis_mappings(optimal_spectral_cluster_size_pma, profile_cluster_spectral_wp[f\"{optimal_spectral_cluster_size_wp}_clusters\"], 'WP_spectral')\n",
    "\n",
    "clear_output()"
   ]
  },
  {
   "cell_type": "code",
   "execution_count": 85,
   "metadata": {},
   "outputs": [],
   "source": [
    "def generate_pma_docker_compose(service_name, www_dir_path):\n",
    "    return {\n",
    "                service_name: \n",
    "                {\n",
    "                    'build': './dockerfiles/web',\n",
    "                    'volumes': ['./docker/webservers/pma/conf/apache2.conf:/etc/apache2/apache2.conf',\n",
    "                                './docker/webservers/pma/conf/sites-enabled/:/etc/apache2/sites-enabled/',\n",
    "                                f\"{www_dir_path}:/var/www/html/\",\n",
    "                                './docker/session:/tmp'],\n",
    "                    'tty': True,\n",
    "                    'stdin_open': False\n",
    "                }\n",
    "            }\n",
    "def generate_docker_compose(dict_webapps):\n",
    "    dict_services = {'reverse-proxy': \n",
    "                        {\n",
    "                            'image': 'openresty/openresty:buster', \n",
    "                            'volumes': ['./docker/reverse-proxy/default.conf:/etc/nginx/conf.d/default.conf', './docker/reverse-proxy/lua/:/usr/local/lua/'],\n",
    "                            'ports': ['8080:80']\n",
    "                        },\n",
    "                     'redis':\n",
    "                        {\n",
    "                            'image': 'redis:bullseye'\n",
    "                        },\n",
    "                     'bootstrap':\n",
    "                        {\n",
    "                           'build': './dockerfiles/bootstrap/',\n",
    "                           'depends_on': ['redis']\n",
    "                        },\n",
    "                     'db':\n",
    "                        {\n",
    "                           'build': './dockerfiles/db/',\n",
    "                           'volumes': ['/var/lib/mysql'],\n",
    "                           'tty': True,\n",
    "                           'stdin_open': False,\n",
    "                           'environment': \n",
    "                            {\n",
    "                                'MYSQL_ROOT_PASSWORD': 'root',\n",
    "                                'MYSQL_ROOT_HOST': '%',\n",
    "                                'MYSQL_USER': 'magento',\n",
    "                                'MYSQL_PASSWORD': 'magento',\n",
    "                                'MYSQL_DATABASE': 'magento'\n",
    "                             }\n",
    "                         }\n",
    "                    }\n",
    "    for webapp in dict_webapps:\n",
    "        dict_services = {**dict_services, **generate_pma_docker_compose(webapp, dict_webapps[webapp])}\n",
    "    dict_docker_compose = {'version': '3', 'services': dict_services}\n",
    "    return dict_docker_compose"
   ]
  },
  {
   "cell_type": "code",
   "execution_count": 86,
   "metadata": {},
   "outputs": [],
   "source": [
    "# Write docker-compose files to disk\n",
    "def write_docker_compose(profile_cluster_mapping, label, webapp_name):\n",
    "    docker_compose_label = f\"docker-compose-{label}.yml\"\n",
    "    docker_compose_webservers = {}\n",
    "    for cluster_id in profile_cluster_mapping:\n",
    "        webapp_path = f\"./webapps/{webapp_name}_Clusters/{webapp_name}_{cluster_id}/\"\n",
    "        webapp_service_name = f\"webserver{cluster_id}\"\n",
    "        docker_compose_webservers[webapp_service_name] = webapp_path\n",
    "    docker_compose = generate_docker_compose(docker_compose_webservers)\n",
    "\n",
    "    with open(f\"./docker-compose/{docker_compose_label}\", 'w+') as f:\n",
    "        yaml.dump(docker_compose, f, default_flow_style=False, sort_keys=False)"
   ]
  },
  {
   "cell_type": "code",
   "execution_count": 87,
   "metadata": {},
   "outputs": [],
   "source": [
    "write_docker_compose(profile_cluster_spectral_pma[f\"{optimal_spectral_cluster_size_pma}_clusters\"], 'pma-spectral', 'PMA_spectral')\n",
    "write_docker_compose(profile_cluster_spectral_wp[f\"{optimal_spectral_cluster_size_wp}_clusters\"], 'wp-spectral', 'WP_spectral')"
   ]
  },
  {
   "cell_type": "code",
   "execution_count": 100,
   "metadata": {},
   "outputs": [],
   "source": [
    "# Produce docker-compose environment and user mapping\n",
    "#   i. Get user to cluster mapping\n",
    "#  ii. Produce Redis mapping file\n",
    "# iii. Produce docker-compose.yml file\n",
    "#  iv. Copy the respective ./webapps/PMA_Clusters/redis_mappings/PMA_mappings_*.txt file to dockerfiles/bootstrap/mappings.txt\n",
    "\n",
    "# At this point we are done with debloating, we can serve the dbltr web apps through docker compose environment"
   ]
  },
  {
   "cell_type": "markdown",
   "metadata": {
    "jp-MarkdownHeadingCollapsed": true,
    "tags": []
   },
   "source": [
    "## Attack Surface Reduction Analysis"
   ]
  },
  {
   "cell_type": "markdown",
   "metadata": {
    "jp-MarkdownHeadingCollapsed": true,
    "tags": []
   },
   "source": [
    "### LLOC Reduction"
   ]
  },
  {
   "cell_type": "code",
   "execution_count": 50,
   "metadata": {},
   "outputs": [],
   "source": [
    "# Get LLOC results\n",
    "\n",
    "def get_lloc_results(dir_names):\n",
    "    lloc = {}\n",
    "    for dir_name in tqdm(dir_names):\n",
    "        cluster_friendly_name = dir_name.split('/')[-1].split('_')[-1]\n",
    "        # display(f\"XDEBUG_MODE=off php -d memory_limit=512M LIM/phploc.phar \" \\\n",
    "        #                 f\"webapps/{dir_name}/\")\n",
    "        proc = subprocess.Popen(f\"XDEBUG_MODE=off php -d memory_limit=512M LIM/phploc.phar \" \\\n",
    "                        f\"webapps/{dir_name}/\", \n",
    "                        shell=True,\n",
    "                        stdout=subprocess.PIPE)\n",
    "        output = proc.stdout.read()\n",
    "        lloc[cluster_friendly_name] = None\n",
    "        for line in str(output).split('\\\\n'):\n",
    "            if 'Logical Lines of Code (LLOC)' in line:\n",
    "                lloc[cluster_friendly_name] = line.split()[5]\n",
    "                \n",
    "    return lloc"
   ]
  },
  {
   "cell_type": "code",
   "execution_count": 69,
   "metadata": {},
   "outputs": [
    {
     "name": "stderr",
     "output_type": "stream",
     "text": [
      "100%|██████████| 6/6 [02:15<00:00, 22.64s/it]\n",
      "100%|██████████| 7/7 [00:44<00:00,  6.34s/it]\n"
     ]
    }
   ],
   "source": [
    "pma_lloc_spectral = get_lloc_results(pma_dir_names_spectral)\n",
    "wp_lloc_spectral = get_lloc_results(wp_dir_names_spectral)"
   ]
  },
  {
   "cell_type": "code",
   "execution_count": 72,
   "metadata": {},
   "outputs": [],
   "source": [
    "# Write LLOC reduction to CSV\n",
    "pd.DataFrame(pma_lloc_spectral.items(), columns=['Clustering', 'LLOC']).to_csv('pma_lloc_spectral.csv')\n",
    "pd.DataFrame(wp_lloc_spectral.items(), columns=['Clustering', 'LLOC']).to_csv('wp_lloc_spectral.csv')"
   ]
  },
  {
   "cell_type": "code",
   "execution_count": 73,
   "metadata": {},
   "outputs": [],
   "source": [
    "# Convert lloc to int\n",
    "pma_lloc_spectral = dict((k,int(v)) for k,v in pma_lloc_spectral.items())\n",
    "wp_lloc_spectral = dict((k,int(v)) for k,v in wp_lloc_spectral.items())"
   ]
  },
  {
   "cell_type": "code",
   "execution_count": 74,
   "metadata": {},
   "outputs": [],
   "source": [
    "# Min-Med-Max Cluster size\n",
    "pma_lloc_spectral_min, pma_lloc_spectral_med, pma_lloc_spectral_max = min(pma_lloc_spectral.values()), statistics.median(pma_lloc_spectral.values()), max(pma_lloc_spectral.values())\n",
    "wp_lloc_spectral_min, wp_lloc_spectral_med, wp_lloc_spectral_max = min(wp_lloc_spectral.values()), statistics.median(wp_lloc_spectral.values()), max(wp_lloc_spectral.values())"
   ]
  },
  {
   "cell_type": "code",
   "execution_count": 106,
   "metadata": {},
   "outputs": [],
   "source": [
    "# Manually extracted LLOC numbers for baseline web apps\n",
    "pma_baseline_lloc = 155183\n",
    "wp_baseline_lloc = 103326\n",
    "mgt_baseline_lloc = 1050610"
   ]
  },
  {
   "cell_type": "code",
   "execution_count": 75,
   "metadata": {},
   "outputs": [
    {
     "data": {
      "text/plain": [
       "'SPECTRAL PMA 33969 39861.0 40858'"
      ]
     },
     "metadata": {},
     "output_type": "display_data"
    },
    {
     "data": {
      "text/plain": [
       "'SPECTRAL WP 43338 53700 63628'"
      ]
     },
     "metadata": {},
     "output_type": "display_data"
    }
   ],
   "source": [
    "display(f\"SPECTRAL PMA {pma_lloc_spectral_min} {pma_lloc_spectral_med} {pma_lloc_spectral_max}\")\n",
    "display(f\"SPECTRAL WP {wp_lloc_spectral_min} {wp_lloc_spectral_med} {wp_lloc_spectral_max}\")"
   ]
  },
  {
   "cell_type": "markdown",
   "metadata": {
    "jp-MarkdownHeadingCollapsed": true,
    "tags": []
   },
   "source": [
    "#### CVE Mappings"
   ]
  },
  {
   "cell_type": "code",
   "execution_count": 88,
   "metadata": {
    "scrolled": true,
    "tags": []
   },
   "outputs": [],
   "source": [
    "# Check CVE reduction\n",
    "cve_mappings_pma = {'CVE-2016-5734' : {'libraries/classes/Controllers/Table/FindReplaceController.php': [170]},\n",
    "                    'CVE-2020-26935': {'libraries/classes/Controllers/Table/SearchController.php': [188],\n",
    "                                       'libraries/classes/Controllers/Table/ZoomSearchController.php': [253]},\n",
    "                    'CVE-2019-6798': {'libraries/classes/Database/Designer.php': [114],\n",
    "                                      'libraries/classes/Database/Designer/Common.php': [519]},\n",
    "                    'CVE-2016-5703' : {'libraries/classes/Database/CentralColumns.php': [110, 162, 306, 567]},\n",
    "                    'CVE-2016-6616' : {'libraries/classes/Controllers/Server/UserGroupsController.php': [34],\n",
    "                                      'libraries/classes/Database/Designer.php': [76],\n",
    "                                      'libraries/classes/Plugins/Export/ExportSql.php': [609],\n",
    "                                      'libraries/classes/Plugins/Schema/ExportRelationSchema.php': [64],\n",
    "                                      'libraries/classes/Database/Designer/Common.php': [216, 233, 250, 272, 311]},\n",
    "                    'CVE-2020-26934': {'libraries/classes/Controllers/TransformationWrapperController.php': [83]},\n",
    "                    'CVE-2019-12616': {'libraries/classes/Plugins/Auth/AuthenticationCookie.php': [210],\n",
    "                                       'libraries/common.inc.php': [57]},\n",
    "                    'CVE-2020-5504' : {'libraries/classes/Server/Privileges.php': [1083]},\n",
    "                    'CVE-2016-6606' : {'libraries/classes/Plugins/Auth/AuthenticationCookie.php': [369, 581, 607, 651]},\n",
    "                    'CVE-2016-9849' : {'libraries/classes/Plugins/AuthenticationPlugin.php': [225]},\n",
    "                    'CVE-2020-10804': {'libraries/classes/Server/Privileges.php': [596],\n",
    "                                       'libraries/classes/UserPassword.php': [54]},\n",
    "                    'CVE-2020-10802': {'libraries/classes/Controllers/Table/SearchController.php': [188]},\n",
    "                    'CVE-2016-6633' : {'libraries/classes/Plugins/Import/ImportShp.php': [75],\n",
    "                                      'libraries/classes/ZipExtension.php': [148]},\n",
    "                    'CVE-2018-12613': {'libraries/classes/Core.php': [396]},\n",
    "                    'CVE-2017-1000499': {'libraries/classes/Url.php': [191],\n",
    "                                          'libraries/classes/Navigation/Nodes/NodeColumn.php': [28],\n",
    "                                          'libraries/classes/Navigation/Nodes/NodeColumnContainer.php': [22],\n",
    "                                          'libraries/classes/Navigation/Nodes/NodeDatabase.php': [37],\n",
    "                                          'libraries/classes/Navigation/Nodes/NodeEvent.php': [26],\n",
    "                                          'libraries/classes/Navigation/Nodes/NodeEventContainer.php': [22],\n",
    "                                          'libraries/classes/Navigation/Nodes/NodeFunction.php': [26],\n",
    "                                          'libraries/classes/Navigation/Nodes/NodeFunctionContainer.php': [22],\n",
    "                                          'libraries/classes/Navigation/Nodes/NodeIndex.php': [26],\n",
    "                                          'libraries/classes/Navigation/Nodes/NodeIndexContainer.php': [22],\n",
    "                                          'libraries/classes/Navigation/Nodes/NodeProcedure.php': [26],\n",
    "                                          'libraries/classes/Navigation/Nodes/NodeProcedureContainer.php': [22],\n",
    "                                          'libraries/classes/Navigation/Nodes/NodeTable.php': [32],\n",
    "                                          'libraries/classes/Navigation/Nodes/NodeTableContainer.php': [22],\n",
    "                                          'libraries/classes/Navigation/Nodes/NodeTrigger.php': [26],\n",
    "                                          'libraries/classes/Navigation/Nodes/NodeTriggerContainer.php': [22],\n",
    "                                          'libraries/classes/Navigation/Nodes/NodeView.php': [26],\n",
    "                                          'libraries/classes/Navigation/Nodes/NodeViewContainer.php': [22]},\n",
    "                    'CVE-2016-6609': {'libraries/classes/Plugins/Export/ExportPhparray.php': [98, 143]},\n",
    "                    'CVE-2016-6619': {'libraries/classes/RecentFavoriteTable.php': [104, 123],\n",
    "                                      'libraries/RecentFavoriteTable.php': [97, 119],\n",
    "                                      'libraries/classes/Table.php': [1316, 1333]},\n",
    "                    'CVE-2013-3240': {'libraries/classes/Plugins.php': [68]},\n",
    "                    'CVE-2014-8959': {'libraries/classes/Gis/GisFactory.php': [27]},\n",
    "                    'CVE-2017-1000017': {'libraries/classes/ReplicationGui.php': [288]}\n",
    "                   }\n",
    "\n",
    "cve_mappings_wp = {'CVE-2014-5203': {'wp-includes/class-wp-customize-widgets.php': [1113, 1142]},\n",
    "                   'CVE-2015-2213': {'wp-includes/post.php': [2812]},\n",
    "                   'CVE-2017-5611': {'wp-includes/class-wp-query.php': [1443]},\n",
    "                   'CVE-2017-14723': {'wp-includes/wp-db.php': [1152]},\n",
    "                   'CVE-2017-16510': {'wp-includes/meta.php': [287],\n",
    "                                      'wp-includes/post.php': [4499],\n",
    "                                      'wp-includes/wp-db.php': [1015, 1152]},\n",
    "                   'CVE-2014-5204': {'wp-includes/pluggable.php': [589, 1921]},\n",
    "                   'CVE-2014-5205': {'wp-includes/pluggable.php': [1921]},\n",
    "                   'CVE-2014-9033': {'wp-login.php': [12]},\n",
    "                   'CVE-2014-9037': {'wp-includes/class-phpass.php': [203, 237]},\n",
    "                   'CVE-2015-5731': {'wp-admin/includes/post.php': [1705]},\n",
    "                   'CVE-2016-6635': {'wp-admin/includes/ajax-actions.php': [144],\n",
    "                                     'wp-admin/includes/template.php': [2149]},\n",
    "                   'CVE-2017-5492': {'wp-admin/includes/class-wp-screen.php': [927]},\n",
    "                   'CVE-2017-9064': {'wp-admin/includes/file.php': [1701]},\n",
    "                   'CVE-2016-7169': {'wp-admin/includes/class-file-upload-upgrader.php': [52]},\n",
    "                   'CVE-2017-17091': {'wp-admin/user-new.php': [10]},\n",
    "                   'CVE-2018-12895': {'wp-includes/post.php': [5057]},\n",
    "                   'CVE-2014-9038': {'wp-includes/http.php': [484]},\n",
    "                   'CVE-2018-10101': {'wp-includes/http.php': [484]},\n",
    "                   'CVE-2018-10100': {'wp-login.php': [12]},\n",
    "                   'CVE-2017-6815': {'wp-includes/pluggable.php': [1318]}\n",
    "                  }"
   ]
  },
  {
   "cell_type": "markdown",
   "metadata": {
    "jp-MarkdownHeadingCollapsed": true,
    "tags": []
   },
   "source": [
    "#### CVE Reduction results"
   ]
  },
  {
   "cell_type": "code",
   "execution_count": 89,
   "metadata": {},
   "outputs": [],
   "source": [
    "# Get the mappings here and check if they are present or absent in the line coverage dataframe of each debloating profile\n",
    "def get_cve_coverage(df_merged_line_coverage, cve_mappings):\n",
    "    cve_file_coverage = {}\n",
    "    cve_function_coverage = {}\n",
    "    for cluster_id in tqdm(df_merged_line_coverage):\n",
    "        cve_file_coverage[cluster_id] = {}\n",
    "        cve_function_coverage[cluster_id] = {}\n",
    "        for cve in cve_mappings:\n",
    "            cve_file_coverage[cluster_id][cve] = False\n",
    "            cve_function_coverage[cluster_id][cve] = False\n",
    "            for vulnerable_file in cve_mappings[cve]:\n",
    "                if df_merged_line_coverage[cluster_id]['filename'].str.contains(f\"/var/www/html/{vulnerable_file}\").any():\n",
    "                    cve_file_coverage[cluster_id][cve] = True\n",
    "                    for vulnerable_line in cve_mappings[cve][vulnerable_file]:\n",
    "                        if vulnerable_line in df_merged_line_coverage[cluster_id] \\\n",
    "                                                .loc[df_merged_line_coverage[cluster_id]['filename'] == f\"/var/www/html/{vulnerable_file}\"]['linenumber'].values:\n",
    "                            cve_function_coverage[cluster_id][cve] = True\n",
    "                            break\n",
    "    return cve_file_coverage, cve_function_coverage"
   ]
  },
  {
   "cell_type": "code",
   "execution_count": 90,
   "metadata": {},
   "outputs": [
    {
     "name": "stderr",
     "output_type": "stream",
     "text": [
      "100%|██████████| 6/6 [00:01<00:00,  3.09it/s]\n",
      "100%|██████████| 7/7 [00:07<00:00,  1.07s/it]\n"
     ]
    }
   ],
   "source": [
    "pma_spectral_cve_file_coverage, pma_spectral_cve_function_coverage = get_cve_coverage(df_merged_line_coverage_spectral_pma, cve_mappings_pma)\n",
    "wp_spectral_cve_file_coverage, wp_spectral_cve_function_coverage = get_cve_coverage(df_merged_line_coverage_spectral_wp, cve_mappings_wp)"
   ]
  },
  {
   "cell_type": "code",
   "execution_count": 91,
   "metadata": {},
   "outputs": [],
   "source": [
    "# Total PMA CVEs = 12\n",
    "# Total WP  CVEs = 20\n",
    "def get_coverage_sum(cve_coverage):\n",
    "    cve_coverage_sum = {}\n",
    "    for cluster_id in cve_coverage:\n",
    "        covered_cves = sum(c == True for c in cve_coverage[cluster_id].values())\n",
    "        if cluster_id not in cve_coverage_sum:\n",
    "            cve_coverage_sum[cluster_id] = []\n",
    "        cve_coverage_sum[cluster_id].append(covered_cves)\n",
    "    return cve_coverage_sum"
   ]
  },
  {
   "cell_type": "code",
   "execution_count": 93,
   "metadata": {},
   "outputs": [],
   "source": [
    "pma_cve_function_coverage_sum_spectral = get_coverage_sum(pma_spectral_cve_function_coverage)\n",
    "wp_cve_function_coverage_sum_spectral = get_coverage_sum(wp_spectral_cve_function_coverage)"
   ]
  },
  {
   "cell_type": "code",
   "execution_count": 98,
   "metadata": {},
   "outputs": [],
   "source": [
    "def display_cve_stats(cve_count, label):\n",
    "    display(f\"{label}: min: {min(cve_count)} median: {statistics.median(cve_count)} max: {max(cve_count)}\")"
   ]
  },
  {
   "cell_type": "code",
   "execution_count": 99,
   "metadata": {},
   "outputs": [
    {
     "data": {
      "text/plain": [
       "'PMA spectral: min: 5 median: 5.5 max: 8'"
      ]
     },
     "metadata": {},
     "output_type": "display_data"
    },
    {
     "data": {
      "text/plain": [
       "'WP spectral: min: 3 median: 4 max: 14'"
      ]
     },
     "metadata": {},
     "output_type": "display_data"
    }
   ],
   "source": [
    "display_cve_stats([item[0] for item in pma_cve_function_coverage_sum_spectral.values()], 'PMA spectral')\n",
    "display_cve_stats([item[0] for item in wp_cve_function_coverage_sum_spectral.values()], 'WP spectral')"
   ]
  },
  {
   "cell_type": "markdown",
   "metadata": {
    "jp-MarkdownHeadingCollapsed": true,
    "tags": []
   },
   "source": [
    "### POP Gadget Chain Analysis"
   ]
  },
  {
   "cell_type": "code",
   "execution_count": 107,
   "metadata": {},
   "outputs": [],
   "source": [
    "'''\n",
    "Source of gadgets: https://github.com/ambionics/phpggc\n",
    "PMA:\n",
    "- Symfony\n",
    "- TCPDF\n",
    "WordPress:\n",
    "- Multiple\n",
    "Magento:\n",
    "- Guzzle\n",
    "- Magento\n",
    "- Monolog\n",
    "- Symfony\n",
    "'''\n",
    "phpggc_pops = {0: {'vendor/symfony/cache/Adapter/AbstractAdapter.php': [36]},# phpMyAdmin Symfony 1\n",
    "               1: {'vendor/symfony/cache/CacheItem.php': [20],\n",
    "                   'vendor/symfony/cache/Adapter/ProxyAdapter.php': [24],\n",
    "                   'vendor/symfony/cache/Adapter/TagAwareAdapter.php': [24]}, # phpMyAdmin Symfony 2\n",
    "               2: {'vendor/tecnickcom/tcpdf/tcpdf.php': [134, 7451]}, # phpMyAdmin TCPDF\n",
    "               3: {'wp-includes/Requests/Utility/FilteredIterator.php': [31]}, # WordPress Generic\n",
    "               4: {'vendor/guzzlehttp/guzzle/src/Cookie/SetCookie.php': [8],\n",
    "                   'vendor/guzzlehttp/guzzle/src/Cookie/CookieJar.php': [25]}\n",
    "              }\n",
    "\n",
    "def get_pop_chains(pops, df_line_coverage_dict):\n",
    "    covered_pops = {}\n",
    "    for cluster_id in df_line_coverage_dict:\n",
    "        for pop_id in pops:\n",
    "            all_lines = False\n",
    "            for pop_file_path in pops[pop_id]:\n",
    "                # display(f\"Checking /var/www/html/{pop_file_path} for {participant}\")\n",
    "                if (df_line_coverage_dict[cluster_id]['filename'].str.contains(pop_file_path)).any() and \\\n",
    "                   (df_line_coverage_dict[cluster_id]['linenumber'].isin(pops[pop_id][pop_file_path])).any():\n",
    "                    all_lines = True\n",
    "                else:\n",
    "                    all_lines = False\n",
    "            if all_lines:\n",
    "                if pop_id not in covered_pops:\n",
    "                    covered_pops[pop_id] = [cluster_id]\n",
    "                else:\n",
    "                    if cluster_id not in covered_pops[pop_id]:\n",
    "                        covered_pops[pop_id].append(cluster_id)\n",
    "    return covered_pops\n",
    "\n"
   ]
  },
  {
   "cell_type": "code",
   "execution_count": 115,
   "metadata": {},
   "outputs": [
    {
     "name": "stderr",
     "output_type": "stream",
     "text": [
      "100%|██████████| 20/20 [00:00<00:00, 70.11it/s]\n"
     ]
    }
   ],
   "source": [
    "df_line_coverage_pma_merged = pd.DataFrame()\n",
    "df_line_coverage_pma_merged_dict = {}\n",
    "for participant in tqdm(df_line_coverage_dict_pma):\n",
    "    df_line_coverage_pma_merged = df_line_coverage_pma_merged.append(df_line_coverage_dict_pma[participant])\n",
    "df_line_coverage_pma_merged.rename(columns={0: 'filename', 1: 'linenumber'}, inplace=True)\n",
    "df_line_coverage_pma_merged_dict[0] = df_line_coverage_pma_merged"
   ]
  },
  {
   "cell_type": "code",
   "execution_count": 116,
   "metadata": {},
   "outputs": [
    {
     "name": "stderr",
     "output_type": "stream",
     "text": [
      "100%|██████████| 20/20 [00:00<00:00, 81.75it/s]\n"
     ]
    }
   ],
   "source": [
    "df_line_coverage_wp_merged = pd.DataFrame()\n",
    "df_line_coverage_wp_merged_dict = {}\n",
    "for participant in tqdm(df_line_coverage_dict_wp):\n",
    "    df_line_coverage_wp_merged = df_line_coverage_wp_merged.append(df_line_coverage_dict_wp[participant])\n",
    "df_line_coverage_wp_merged.rename(columns={0: 'filename', 1: 'linenumber'}, inplace=True)\n",
    "df_line_coverage_wp_merged_dict[0] = df_line_coverage_wp_merged"
   ]
  },
  {
   "cell_type": "code",
   "execution_count": 117,
   "metadata": {},
   "outputs": [],
   "source": [
    "baseline_pop_coverage_pma = get_pop_chains(phpggc_pops, df_line_coverage_pma_merged_dict)\n",
    "baseline_pop_coverage_wp = get_pop_chains(phpggc_pops, df_line_coverage_wp_merged_dict)"
   ]
  },
  {
   "cell_type": "code",
   "execution_count": 120,
   "metadata": {},
   "outputs": [
    {
     "data": {
      "text/plain": [
       "{2: [0]}"
      ]
     },
     "metadata": {},
     "output_type": "display_data"
    },
    {
     "data": {
      "text/plain": [
       "{}"
      ]
     },
     "metadata": {},
     "output_type": "display_data"
    }
   ],
   "source": [
    "display(baseline_pop_coverage_pma)\n",
    "display(baseline_pop_coverage_wp)"
   ]
  },
  {
   "cell_type": "code",
   "execution_count": 121,
   "metadata": {},
   "outputs": [],
   "source": [
    "pop_coverage_spectral_pma = get_pop_chains(phpggc_pops, df_merged_line_coverage_spectral_pma)\n",
    "pop_coverage_spectral_wp = get_pop_chains(phpggc_pops, df_merged_line_coverage_spectral_wp)"
   ]
  },
  {
   "cell_type": "code",
   "execution_count": 126,
   "metadata": {},
   "outputs": [
    {
     "data": {
      "text/plain": [
       "'PMA: '"
      ]
     },
     "metadata": {},
     "output_type": "display_data"
    },
    {
     "data": {
      "text/plain": [
       "{2: [4, 1, 0, 2, 5]}"
      ]
     },
     "metadata": {},
     "output_type": "display_data"
    },
    {
     "data": {
      "text/plain": [
       "'WP: '"
      ]
     },
     "metadata": {},
     "output_type": "display_data"
    },
    {
     "data": {
      "text/plain": [
       "{}"
      ]
     },
     "metadata": {},
     "output_type": "display_data"
    }
   ],
   "source": [
    "# POP Chain id: [List of exposed clusters]\n",
    "display('PMA: ', pop_coverage_spectral_pma)\n",
    "display('WP: ', pop_coverage_spectral_wp)"
   ]
  }
 ],
 "metadata": {
  "colab": {
   "collapsed_sections": [
    "1Sv3cbMS73sI"
   ],
   "name": "rbd_dataanalysis.ipynb",
   "provenance": []
  },
  "kernelspec": {
   "display_name": "Python 3 (ipykernel)",
   "language": "python",
   "name": "python3"
  },
  "language_info": {
   "codemirror_mode": {
    "name": "ipython",
    "version": 3
   },
   "file_extension": ".py",
   "mimetype": "text/x-python",
   "name": "python",
   "nbconvert_exporter": "python",
   "pygments_lexer": "ipython3",
   "version": "3.9.12"
  }
 },
 "nbformat": 4,
 "nbformat_minor": 4
}
