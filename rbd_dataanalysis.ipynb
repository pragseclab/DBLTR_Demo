{
 "cells": [
  {
   "cell_type": "markdown",
   "metadata": {
    "id": "MppTXLa4slWy",
    "tags": []
   },
   "source": [
    "### Lib Imports"
   ]
  },
  {
   "cell_type": "code",
   "execution_count": 1,
   "metadata": {
    "id": "BtEPmD3qVxhZ"
   },
   "outputs": [],
   "source": [
    "import glob\n",
    "import sys\n",
    "import heapq\n",
    "import subprocess\n",
    "import pickle\n",
    "import yaml\n",
    "import random\n",
    "import gensim\n",
    "import statistics\n",
    "import wordcloud\n",
    "import json\n",
    "import os.path\n",
    "import pandas as pd\n",
    "import numpy as np\n",
    "from shutil import copytree\n",
    "from statistics import median\n",
    "from matplotlib.ticker import ScalarFormatter\n",
    "from matplotlib.ticker import StrMethodFormatter\n",
    "from matplotlib.ticker import PercentFormatter\n",
    "from sklearn.metrics import silhouette_score\n",
    "from sklearn.cluster import SpectralClustering\n",
    "from sklearn.metrics import pairwise_distances\n",
    "from scipy.spatial.distance import cosine\n",
    "from sklearn.feature_extraction.text import TfidfVectorizer\n",
    "from sklearn.feature_extraction.text import CountVectorizer\n",
    "from sklearn.cluster import KMeans\n",
    "from sklearn.decomposition import PCA\n",
    "from sklearn.manifold import TSNE\n",
    "from sklearn.metrics import silhouette_score, silhouette_samples\n",
    "from copy import deepcopy\n",
    "from collections import Counter\n",
    "from tqdm import tqdm\n",
    "from operator import itemgetter\n",
    "from pathlib import Path\n",
    "from IPython.display import clear_output\n",
    "import matplotlib.pyplot as plt\n",
    "import warnings\n",
    "\n",
    "warnings.filterwarnings(action='ignore')\n",
    "plt.style.use('ggplot')"
   ]
  },
  {
   "cell_type": "markdown",
   "metadata": {
    "id": "v2tPJf78Y4Ht",
    "tags": []
   },
   "source": [
    "### Import CSV files"
   ]
  },
  {
   "cell_type": "code",
   "execution_count": 183,
   "metadata": {
    "colab": {
     "base_uri": "https://localhost:8080/"
    },
    "id": "WHn9b9OtWxMm",
    "outputId": "49ad3c85-dc5e-4cb0-e04f-0e4f8a8cb706"
   },
   "outputs": [
    {
     "name": "stdout",
     "output_type": "stream",
     "text": [
      "Processed 5 coverage files.\n"
     ]
    }
   ],
   "source": [
    "# Import Code Coverage Data\n",
    "# Make sure paths are normalized (eg web app is hosted at /var/www/html/ or remove the subdirectory that it is hosted at)\n",
    "\n",
    "BASE_PATH = '/home/jovyan/work/'\n",
    "# Number of slashes to skip to get to username in file path\n",
    "PARTICIPANT_NAME_SPLIT = 7\n",
    "\n",
    "df_file_coverage_dict = {}\n",
    "\n",
    "i = 0\n",
    "for csv_file_coverage in glob.glob(f\"{BASE_PATH}LIM/training/users/*/files.csv\"):\n",
    "  i += 1\n",
    "  participant_name = csv_file_coverage.split('/')[PARTICIPANT_NAME_SPLIT]\n",
    "  df = pd.read_csv(csv_file_coverage, header=None)\n",
    "  df_file_coverage_dict[participant_name] = df\n",
    "print(f\"Processed {i} coverage files.\")"
   ]
  },
  {
   "cell_type": "code",
   "execution_count": 178,
   "metadata": {},
   "outputs": [
    {
     "data": {
      "text/plain": [
       "dict_keys(['alice', 'bob', 'charlie', 'david', 'eli'])"
      ]
     },
     "execution_count": 178,
     "metadata": {},
     "output_type": "execute_result"
    }
   ],
   "source": [
    "# List of identified users\n",
    "df_file_coverage_dict.keys()"
   ]
  },
  {
   "cell_type": "code",
   "execution_count": 179,
   "metadata": {},
   "outputs": [
    {
     "name": "stdout",
     "output_type": "stream",
     "text": [
      "Processed 5 coverage files.\n"
     ]
    }
   ],
   "source": [
    "# Import Line Coverage Data\n",
    "\n",
    "df_line_coverage_dict = {}\n",
    "\n",
    "i = 0\n",
    "for csv_line_coverage in glob.glob(f\"{BASE_PATH}LIM/training/users/*/lines.csv\"):\n",
    "  i += 1\n",
    "  participant_name = csv_line_coverage.split('/')[PARTICIPANT_NAME_SPLIT]\n",
    "  df = pd.read_csv(csv_line_coverage, header=None)\n",
    "  df_line_coverage_dict[participant_name] = df\n",
    "print(f\"Processed {i} coverage files.\")"
   ]
  },
  {
   "cell_type": "code",
   "execution_count": 180,
   "metadata": {},
   "outputs": [
    {
     "data": {
      "text/plain": [
       "dict_keys(['alice', 'bob', 'charlie', 'david', 'eli'])"
      ]
     },
     "execution_count": 180,
     "metadata": {},
     "output_type": "execute_result"
    }
   ],
   "source": [
    "# List of identified users\n",
    "df_line_coverage_dict.keys()"
   ]
  },
  {
   "cell_type": "code",
   "execution_count": 184,
   "metadata": {},
   "outputs": [],
   "source": [
    "# Serialize data\n",
    "# Store\n",
    "with open('df_line_coverage_dict.pickle', 'wb') as pkl:\n",
    "    pickle.dump(df_line_coverage_dict, pkl)\n",
    "# Retrieve\n",
    "# with open('df_line_coverage_dict.pickle', 'rb') as pkl:\n",
    "#     df_line_coverage_dict = pickle.load(pkl)"
   ]
  },
  {
   "cell_type": "markdown",
   "metadata": {
    "tags": []
   },
   "source": [
    "### Add source code features"
   ]
  },
  {
   "cell_type": "markdown",
   "metadata": {
    "tags": []
   },
   "source": [
    "#### Extract source code features"
   ]
  },
  {
   "cell_type": "code",
   "execution_count": null,
   "metadata": {},
   "outputs": [],
   "source": [
    "# Takes a long time to finish based on the size of the web applicationls\n",
    "# Extracts the static features from the source code of web application\n",
    "# Needs to be done only once per web application\n",
    "# Run on the original non-debloated copy of the web application\n",
    "# webapp_name = 'phpMyAdmin'\n",
    "# subprocess.call(f\"XDEBUG_MODE=off php -d memory_limit=2G LIM/src_features.php \" \\\n",
    "#                 f\"webapps/{webapp_name}\",\n",
    "#                 shell=True, stdout=subprocess.DEVNULL, stderr=subprocess.STDOUT)\n",
    "# clear_output(wait=True)"
   ]
  },
  {
   "cell_type": "code",
   "execution_count": 17,
   "metadata": {},
   "outputs": [],
   "source": [
    "def import_ns_df(json_path, path_prefix=None):\n",
    "    with open(json_path, 'r') as f:\n",
    "        ns_df = pd.read_json(f)\n",
    "        ns_df = ns_df.transpose().reset_index().rename(columns={'index': 'file_name'})\n",
    "        if path_prefix is not None:\n",
    "            ns_df['file_name'] = ns_df['file_name'].apply(lambda S:S.replace(path_prefix, ''))\n",
    "        return ns_df\n",
    "def import_func_df(json_path, path_prefix=None):\n",
    "    with open(json_path, 'r') as f:\n",
    "        func_json = json.load(f)\n",
    "        func_df = pd.DataFrame(columns=['file_name', 'function_name', 'start_line', 'end_line'])\n",
    "        for file_name in tqdm(func_json):\n",
    "            if len(func_json[file_name]) > 0: # File has functions\n",
    "                for func_name in func_json[file_name]:\n",
    "                    if path_prefix is not None:\n",
    "                        normalized_file_name = file_name.replace(path_prefix, '')\n",
    "                    else:\n",
    "                        normalized_file_name = file_name\n",
    "                    new_row = {'file_name': normalized_file_name, 'function_name': func_name, 'start_line': func_json[file_name][func_name]['start_line'], 'end_line': func_json[file_name][func_name]['end_line']}\n",
    "                    func_df = func_df.append(new_row, ignore_index=True)\n",
    "        return func_df"
   ]
  },
  {
   "cell_type": "code",
   "execution_count": 19,
   "metadata": {},
   "outputs": [],
   "source": [
    "ns_df = import_ns_df(BASE_PATH + 'ns_mapping.json', '/home/jovyan/work/webapps/phpMyAdmin/')"
   ]
  },
  {
   "cell_type": "code",
   "execution_count": 25,
   "metadata": {},
   "outputs": [
    {
     "name": "stderr",
     "output_type": "stream",
     "text": [
      "100%|██████████| 11150/11150 [18:22<00:00, 10.11it/s] \n"
     ]
    }
   ],
   "source": [
    "func_df = import_func_df(BASE_PATH + 'func_mapping.json', '/home/jovyan/work/webapps/phpMyAdmin/')"
   ]
  },
  {
   "cell_type": "code",
   "execution_count": 27,
   "metadata": {},
   "outputs": [],
   "source": [
    "# Serialize data\n",
    "# Store\n",
    "with open('df_src_features.pickle', 'wb') as pkl:\n",
    "    pickle.dump([ns_df, func_df], pkl)\n",
    "# Retrieve\n",
    "# with open('df_src_features.pickle', 'rb') as pkl:\n",
    "#     ns_df, func_df = pickle.load(pkl)"
   ]
  },
  {
   "cell_type": "markdown",
   "metadata": {
    "tags": []
   },
   "source": [
    "#### Map coverage to source code features"
   ]
  },
  {
   "cell_type": "code",
   "execution_count": 22,
   "metadata": {},
   "outputs": [],
   "source": [
    "def get_covered_functions_dict(df_line_coverage_dict, func_df):\n",
    "    covered_functions_dict = {}\n",
    "    for participant in df_line_coverage_dict:\n",
    "        covered_functions_dict[participant] = set()\n",
    "        for index, line_coverage_row in tqdm(df_line_coverage_dict[participant].iterrows(), total=df_line_coverage_dict[participant].shape[0]):\n",
    "            file_name = line_coverage_row[0].replace('/var/www/html/', '')\n",
    "            line_number = line_coverage_row[1]\n",
    "            for index, func_map_row in func_df[func_df['file_name'] == file_name].iterrows():\n",
    "                if line_number >= func_map_row['start_line'] and line_number <= func_map_row['end_line']:\n",
    "                    covered_functions_dict[participant].add(func_map_row['function_name'])\n",
    "                    break\n",
    "        clear_output(wait=True)\n",
    "    return covered_functions_dict\n",
    "\n",
    "def get_covered_ns_dict(df_file_coverage_dict, ns_df):\n",
    "    covered_ns_dict = {}\n",
    "    for participant in df_file_coverage_dict:\n",
    "        covered_ns_dict[participant] = set()\n",
    "        for index, file_coverage_row in tqdm(df_file_coverage_dict[participant].iterrows(), total=df_file_coverage_dict[participant].shape[0]):\n",
    "            file_name = file_coverage_row[0].replace('/var/www/html/', '')\n",
    "            for index, ns_map_row in ns_df[ns_df['file_name'] == file_name].iterrows():\n",
    "                active_ns = ns_map_row['active_ns']\n",
    "                if len(active_ns) > 0:\n",
    "                    covered_ns_dict[participant].add(active_ns[0])\n",
    "                for used_ns in ns_map_row['used_ns']:\n",
    "                    covered_ns_dict[participant].add(used_ns)\n",
    "                break\n",
    "        clear_output(wait=True)\n",
    "    return covered_ns_dict"
   ]
  },
  {
   "cell_type": "code",
   "execution_count": 185,
   "metadata": {},
   "outputs": [
    {
     "name": "stderr",
     "output_type": "stream",
     "text": [
      "100%|██████████| 149/149 [00:00<00:00, 1025.74it/s]\n"
     ]
    }
   ],
   "source": [
    "# Takes long, import from pickle file instead\n",
    "covered_ns_dict = get_covered_ns_dict(df_file_coverage_dict, ns_df)"
   ]
  },
  {
   "cell_type": "code",
   "execution_count": 186,
   "metadata": {},
   "outputs": [],
   "source": [
    "# Serialize data\n",
    "# Store\n",
    "with open('df_covered_ns.pickle', 'wb') as pkl:\n",
    "    pickle.dump(covered_ns_dict, pkl)\n",
    "# Retrieve\n",
    "# with open('df_covered_ns.pickle', 'rb') as pkl:\n",
    "#     covered_ns_dict, _ = pickle.load(pkl)"
   ]
  },
  {
   "cell_type": "code",
   "execution_count": 187,
   "metadata": {},
   "outputs": [
    {
     "name": "stderr",
     "output_type": "stream",
     "text": [
      "100%|██████████| 9088/9088 [00:33<00:00, 274.76it/s]\n"
     ]
    }
   ],
   "source": [
    "# Takes long time to run, import from pickle file instead\n",
    "covered_functions_dict = get_covered_functions_dict(df_line_coverage_dict, func_df)"
   ]
  },
  {
   "cell_type": "code",
   "execution_count": 188,
   "metadata": {},
   "outputs": [],
   "source": [
    "# Serialize data\n",
    "# Store\n",
    "with open('df_covered_functions.pickle', 'wb') as pkl:\n",
    "    pickle.dump(covered_functions_dict, pkl)\n",
    "# Retrieve\n",
    "# with open('df_covered_functions.pickle', 'rb') as pkl:\n",
    "#     covered_functions_dict = pickle.load(pkl)"
   ]
  },
  {
   "cell_type": "markdown",
   "metadata": {
    "id": "rHJu9vbM1-AZ",
    "tags": []
   },
   "source": [
    "## Clustering"
   ]
  },
  {
   "cell_type": "markdown",
   "metadata": {
    "tags": []
   },
   "source": [
    "### Clustering by NS/Function calls"
   ]
  },
  {
   "cell_type": "markdown",
   "metadata": {
    "tags": []
   },
   "source": [
    "#### Vectorize"
   ]
  },
  {
   "cell_type": "code",
   "execution_count": 30,
   "metadata": {},
   "outputs": [],
   "source": [
    "def merge_features_to_doc(ns_dict, functions_dict, covered_files_dict, participants):\n",
    "    corpus = []\n",
    "    for participant in tqdm(participants):\n",
    "        corpus.append([])\n",
    "        for index, file in covered_files_dict[participant].iterrows():\n",
    "            if file[0] is not None:\n",
    "                file_name = file[0].replace('/var/www/html/', '')\n",
    "                if file_name not in corpus[-1]:\n",
    "                    corpus[-1].append(file_name)\n",
    "        for ns in ns_dict[participant]:\n",
    "            if ns is not None:\n",
    "                ns = ns.replace('\\\\', ' ')\n",
    "                if ns not in corpus[-1]:\n",
    "                    corpus[-1].append(ns)\n",
    "        for func in functions_dict[participant]:\n",
    "            if func is not None:\n",
    "                func = func.replace('\\\\', ' ')\n",
    "                if func not in corpus[-1]:\n",
    "                    corpus[-1].append(func)\n",
    "    for i in range(0, len(corpus)):\n",
    "        corpus[i] = ' '.join(corpus[i]).replace('/', '')\n",
    "    return corpus"
   ]
  },
  {
   "cell_type": "code",
   "execution_count": 199,
   "metadata": {},
   "outputs": [
    {
     "name": "stderr",
     "output_type": "stream",
     "text": [
      "100%|██████████| 5/5 [00:00<00:00, 78.40it/s]\n"
     ]
    }
   ],
   "source": [
    "corpus = merge_features_to_doc(covered_ns_dict, covered_functions_dict, df_file_coverage_dict, covered_functions_dict.keys())"
   ]
  },
  {
   "cell_type": "code",
   "execution_count": 200,
   "metadata": {},
   "outputs": [],
   "source": [
    "# Count the number of features\n",
    "vectorizer = CountVectorizer(binary=True)\n",
    "ns_func_vectors = vectorizer.fit_transform(corpus)\n",
    "df_count_ns_func = pd.DataFrame(ns_func_vectors.toarray(),columns=vectorizer.get_feature_names_out())"
   ]
  },
  {
   "cell_type": "markdown",
   "metadata": {
    "tags": []
   },
   "source": [
    "#### Clustering"
   ]
  },
  {
   "cell_type": "code",
   "execution_count": 191,
   "metadata": {},
   "outputs": [],
   "source": [
    "def similarity_metric(x, y): # Jaccard similarity (A Intersection B / A Union B)\n",
    "    matching_coverages = 0\n",
    "    extra_coverages = 0\n",
    "    for index in range(0, len(x)):\n",
    "        if x[index] == 1:\n",
    "            if x[index] == y[index]:\n",
    "                matching_coverages += 1\n",
    "            else:\n",
    "                extra_coverages += 1\n",
    "        elif y[index] == 1:\n",
    "            extra_coverages += 1\n",
    "    if matching_coverages == 0:\n",
    "        similarity = 0\n",
    "    else:\n",
    "        similarity = matching_coverages / (matching_coverages + extra_coverages)\n",
    "    return similarity\n",
    "\n",
    "def get_spectral_models(num_participants, df_tfidf):\n",
    "    spectral_models = {}\n",
    "    for i in range(1, num_participants + 1):\n",
    "        distance_array = pairwise_distances(df_tfidf, metric=similarity_metric)\n",
    "        current_model = SpectralClustering(n_clusters=i, affinity='precomputed').fit(distance_array)\n",
    "        spectral_models[i] = current_model\n",
    "    return spectral_models\n",
    "\n",
    "def get_spectral_labels(participants, spectral_models):\n",
    "    df_spectrals = pd.DataFrame()\n",
    "    df_spectrals['participant'] = participants\n",
    "    for i in range(1, len(participants) + 1):\n",
    "        col_name = str(i) + '_clusters'\n",
    "        df_spectrals[col_name] = spectral_models[i].labels_\n",
    "    return df_spectrals"
   ]
  },
  {
   "cell_type": "code",
   "execution_count": 201,
   "metadata": {},
   "outputs": [],
   "source": [
    "spectral_models = get_spectral_models(len(covered_functions_dict.keys()), df_count_ns_func)"
   ]
  },
  {
   "cell_type": "code",
   "execution_count": 202,
   "metadata": {},
   "outputs": [],
   "source": [
    "spectral_models_labels = get_spectral_labels(covered_functions_dict.keys(), spectral_models)"
   ]
  },
  {
   "cell_type": "code",
   "execution_count": 203,
   "metadata": {},
   "outputs": [
    {
     "data": {
      "text/plain": [
       "'1_clusters: dict_values([5])'"
      ]
     },
     "metadata": {},
     "output_type": "display_data"
    },
    {
     "data": {
      "text/plain": [
       "'2_clusters: dict_values([3, 2])'"
      ]
     },
     "metadata": {},
     "output_type": "display_data"
    },
    {
     "data": {
      "text/plain": [
       "'3_clusters: dict_values([2, 2, 1])'"
      ]
     },
     "metadata": {},
     "output_type": "display_data"
    },
    {
     "data": {
      "text/plain": [
       "'4_clusters: dict_values([2, 1, 1, 1])'"
      ]
     },
     "metadata": {},
     "output_type": "display_data"
    },
    {
     "data": {
      "text/plain": [
       "'5_clusters: dict_values([1, 1, 1, 1, 1])'"
      ]
     },
     "metadata": {},
     "output_type": "display_data"
    }
   ],
   "source": [
    "# Print members of each cluster for various cluster sizes\n",
    "for debloating in spectral_models_labels.columns[1:]:\n",
    "    display(f\"{debloating}: {Counter(spectral_models_labels[debloating]).values()}\")"
   ]
  },
  {
   "cell_type": "code",
   "execution_count": 204,
   "metadata": {},
   "outputs": [],
   "source": [
    "# Serialize data\n",
    "# Store\n",
    "with open('spectral_models.pickle', 'wb') as pkl:\n",
    "    pickle.dump([spectral_models, spectral_models_labels], pkl)\n",
    "# Retrieve\n",
    "# with open('spectral_models.pickle', 'rb') as pkl:\n",
    "#     spectral_models, spectral_models_labels = pickle.load(pkl)"
   ]
  },
  {
   "cell_type": "markdown",
   "metadata": {
    "tags": []
   },
   "source": [
    "#### Evaluate clusters"
   ]
  },
  {
   "cell_type": "code",
   "execution_count": 196,
   "metadata": {},
   "outputs": [],
   "source": [
    "def plot_covered_functions(df_participant_cluster_mapping, function_coverage_dict, selected_clusters=range(1, 21), plot=True):\n",
    "    avg_functions = []\n",
    "    for cluster_size in selected_clusters:\n",
    "        cluster_functions = []\n",
    "        for cluster_id in range(0, cluster_size):\n",
    "            users_in_cluster = df_participant_cluster_mapping[df_participant_cluster_mapping[f\"{cluster_size}_clusters\"] == cluster_id]['participant']\n",
    "            covered_functions = set()\n",
    "            for user in users_in_cluster:\n",
    "                covered_functions |= set(function_coverage_dict[user])\n",
    "            cluster_functions.append(len(covered_functions))\n",
    "        avg_function_calls = sum(cluster_functions) / len(cluster_functions)\n",
    "        avg_functions.append(avg_function_calls)\n",
    "    if plot == True:\n",
    "        fig, ax = plt.subplots(figsize=(6, 3))\n",
    "        ax.plot(range(1, 21), avg_functions)\n",
    "        ax.set_xticks(range(1, 21))\n",
    "        ax.spines['bottom'].set_color('0.5')\n",
    "        ax.spines['left'].set_color('0.5')\n",
    "        ax.grid(axis='x')\n",
    "        ax.set_xlabel('Number of roles', fontsize=14)\n",
    "        ax.set_ylabel('Number of functions', fontsize=14)\n",
    "        fig.show()\n",
    "    else:\n",
    "        display(avg_functions)"
   ]
  },
  {
   "cell_type": "markdown",
   "metadata": {
    "tags": []
   },
   "source": [
    "#### Spectral"
   ]
  },
  {
   "cell_type": "markdown",
   "metadata": {
    "tags": []
   },
   "source": [
    "##### Visuals"
   ]
  },
  {
   "cell_type": "code",
   "execution_count": 205,
   "metadata": {},
   "outputs": [
    {
     "data": {
      "image/png": "[encoded data removed]",
      "text/plain": [
       "<Figure size 432x216 with 1 Axes>"
      ]
     },
     "metadata": {},
     "output_type": "display_data"
    }
   ],
   "source": [
    "plt.rcParams[\"font.family\"] = \"sans\"\n",
    "\n",
    "fig, ax = plt.subplots(1, 1, sharex=True, figsize=(6, 3), facecolor='white')\n",
    "\n",
    "df_participant_cluster_mapping = spectral_models_labels\n",
    "function_coverage_dict = covered_functions_dict\n",
    "selected_clusters=range(1, len(spectral_models_labels) + 1)\n",
    "\n",
    "avg_functions = []\n",
    "max_size = 0\n",
    "for cluster_size in selected_clusters:\n",
    "    cluster_functions = []\n",
    "    for cluster_id in range(0, cluster_size):\n",
    "        users_in_cluster = df_participant_cluster_mapping[df_participant_cluster_mapping[f\"{cluster_size}_clusters\"] == cluster_id]['participant']\n",
    "        covered_functions = set()\n",
    "        for user in users_in_cluster:\n",
    "            covered_functions |= set(function_coverage_dict[user])\n",
    "        cluster_functions.append(len(covered_functions))\n",
    "    avg_function_calls = sum(cluster_functions) / len(cluster_functions)\n",
    "    # avg_function_calls = avg_function_calls * avg_function_calls\n",
    "    max_size = max([max_size, avg_function_calls])\n",
    "    avg_functions.append(avg_function_calls / max_size)\n",
    "ax.plot(range(1, len(spectral_models_labels) + 1), avg_functions, linewidth=1, ls='-', color='black')\n",
    "\n",
    "ax.set_xticks(range(1, len(spectral_models_labels) + 1))\n",
    "ax.spines['bottom'].set_color('0.25')\n",
    "ax.spines['left'].set_color('0.25')\n",
    "ax.spines['top'].set_color('1')\n",
    "ax.spines['right'].set_color('1')\n",
    "    \n",
    "lgd = ax.legend(['phpMyAdmin', 'WordPress', 'Magento'], fontsize=13, facecolor='white', frameon=True, framealpha=0.75)\n",
    "ax.set_facecolor('white')\n",
    "fig.text(0.5, -0.05, 'Number of roles', ha='center', fontsize=14)\n",
    "fig.text(0, 0.5, 'Relative number of functions', va='center', rotation='vertical', fontsize=14)\n",
    "    \n",
    "ax.grid(visible=True, axis='y', which='major', color=(0.8, 0.8, 0.8), linestyle='-')\n",
    "    \n",
    "COLOR = 'black'\n",
    "plt.rcParams['text.color'] = COLOR\n",
    "plt.rcParams['axes.labelcolor'] = COLOR\n",
    "plt.rcParams['xtick.color'] = COLOR\n",
    "plt.rcParams['ytick.color'] = COLOR\n",
    "plt.rcParams['axes.edgecolor'] = COLOR\n",
    "    \n",
    "fig.show()"
   ]
  },
  {
   "cell_type": "markdown",
   "metadata": {
    "tags": []
   },
   "source": [
    "### Optimal Cluster Size"
   ]
  },
  {
   "cell_type": "code",
   "execution_count": 213,
   "metadata": {},
   "outputs": [],
   "source": [
    "optimal_spectral_cluster_size = 2"
   ]
  },
  {
   "cell_type": "markdown",
   "metadata": {
    "tags": []
   },
   "source": [
    "## Generate artifacts"
   ]
  },
  {
   "cell_type": "markdown",
   "metadata": {
    "id": "YMum1nTjMbPP",
    "tags": []
   },
   "source": [
    "### Generate and write CSV Coverage info of clusters"
   ]
  },
  {
   "cell_type": "code",
   "execution_count": 45,
   "metadata": {
    "id": "inEiBnmqMi4t"
   },
   "outputs": [],
   "source": [
    "# Get list of users in each cluster\n",
    "def get_cluster_of_profiles(df_model_labels):\n",
    "    profile_clusters = {}\n",
    "    for cluster in df_model_labels.columns[1:]: # 1_clusters 2_clusters 3_clusters ...\n",
    "        profile_clusters[cluster] = {}\n",
    "        for idx, row in df_model_labels.iterrows():\n",
    "            participant_name = row['participant']\n",
    "            participant_cluster = row[cluster]\n",
    "            if participant_cluster not in profile_clusters[cluster]:\n",
    "                profile_clusters[cluster][participant_cluster] = [participant_name]\n",
    "            else:\n",
    "                profile_clusters[cluster][participant_cluster].append(participant_name)\n",
    "    return profile_clusters"
   ]
  },
  {
   "cell_type": "code",
   "execution_count": 206,
   "metadata": {},
   "outputs": [],
   "source": [
    "# Generate the mapping of users to clusters (ie Roles)\n",
    "profile_cluster_spectral = get_cluster_of_profiles(spectral_models_labels)"
   ]
  },
  {
   "cell_type": "code",
   "execution_count": 207,
   "metadata": {},
   "outputs": [
    {
     "data": {
      "text/plain": [
       "{'1_clusters': {0: ['alice', 'bob', 'charlie', 'david', 'eli']},\n",
       " '2_clusters': {0: ['alice', 'bob', 'david'], 1: ['charlie', 'eli']},\n",
       " '3_clusters': {2: ['alice', 'bob'], 1: ['charlie', 'eli'], 0: ['david']},\n",
       " '4_clusters': {1: ['alice', 'bob'], 2: ['charlie'], 0: ['david'], 3: ['eli']},\n",
       " '5_clusters': {1: ['alice'],\n",
       "  4: ['bob'],\n",
       "  0: ['charlie'],\n",
       "  2: ['david'],\n",
       "  3: ['eli']}}"
      ]
     },
     "execution_count": 207,
     "metadata": {},
     "output_type": "execute_result"
    }
   ],
   "source": [
    "profile_cluster_spectral"
   ]
  },
  {
   "cell_type": "code",
   "execution_count": 214,
   "metadata": {
    "colab": {
     "base_uri": "https://localhost:8080/",
     "height": 35
    },
    "id": "2Qo5W-ywMnMP",
    "outputId": "a589d9e6-19ae-4624-a256-6eb23f701d66"
   },
   "outputs": [],
   "source": [
    "# Fetch and merge their coverage info\n",
    "def merge_line_coverage_dict(coverage_dict, dirname):\n",
    "  df = {}\n",
    "  for profile in coverage_dict:\n",
    "    df[profile] = merge_line_coverage_profile(coverage_dict[profile], dirname)\n",
    "  return df\n",
    "\n",
    "def merge_line_coverage_profile(profile_names_list, dirname):\n",
    "  df = pd.DataFrame()\n",
    "  # print(profile_names_list)\n",
    "  for profile in profile_names_list:\n",
    "    df = pd.concat([df, pd.read_csv(f\"{BASE_PATH}{dirname}/{profile}/lines.csv\", header=None, names=['filename', 'linenumber'])]).drop_duplicates().reset_index(drop=True)\n",
    "  return df\n",
    "    \n",
    "def merge_line_coverage_profiles(profile_clusters, dirname):\n",
    "  df_merged_line_coverage = {}\n",
    "  total_files = 0\n",
    "  for clustering in profile_clusters:\n",
    "    clear_output(wait=True)\n",
    "    display(f\"Processing {clustering}\")\n",
    "    total_files += 1\n",
    "    df_merged_line_coverage[clustering] = merge_line_coverage_dict(profile_clusters[clustering], dirname)\n",
    "  clear_output(wait=True)\n",
    "  display(f\"Finished processing {total_files} files.\")\n",
    "  return df_merged_line_coverage"
   ]
  },
  {
   "cell_type": "code",
   "execution_count": 215,
   "metadata": {},
   "outputs": [
    {
     "data": {
      "text/plain": [
       "'Finished processing 5 files.'"
      ]
     },
     "metadata": {},
     "output_type": "display_data"
    }
   ],
   "source": [
    "# Merge the line coverage of all users in each cluster (role) for debloating\n",
    "df_merged_line_coverage_spectral = merge_line_coverage_profiles(profile_cluster_spectral, 'LIM/training/users')"
   ]
  },
  {
   "cell_type": "code",
   "execution_count": 216,
   "metadata": {},
   "outputs": [],
   "source": [
    "def get_keys_from_merged_df(df_merged_line_coverage, cluster_id):\n",
    "    return df_merged_line_coverage[list(df_merged_line_coverage.keys())[cluster_id-1]]"
   ]
  },
  {
   "cell_type": "code",
   "execution_count": 217,
   "metadata": {},
   "outputs": [],
   "source": [
    "df_merged_line_coverage_spectral = get_keys_from_merged_df(df_merged_line_coverage_spectral, optimal_spectral_cluster_size)"
   ]
  },
  {
   "cell_type": "code",
   "execution_count": 218,
   "metadata": {},
   "outputs": [],
   "source": [
    "def write_csv_line_coverage(df_merged_line_coverage, dirname):\n",
    "  total_files = 0\n",
    "  for cluster_id in df_merged_line_coverage:\n",
    "      coverage_csv_filepath = f\"{BASE_PATH}{dirname}/{cluster_id}_lines.csv\"\n",
    "      clear_output(wait=True)\n",
    "      display(f\"Writing to {coverage_csv_filepath}\")\n",
    "      Path(f\"{BASE_PATH}{dirname}/\").mkdir(parents=True, exist_ok=True)\n",
    "      display(cluster_id)\n",
    "      df_merged_line_coverage[cluster_id].to_csv(coverage_csv_filepath, sep=',')\n",
    "      total_files += 1\n",
    "  clear_output(wait=True) \n",
    "  display(f\"Finished writing {total_files} files.\")"
   ]
  },
  {
   "cell_type": "code",
   "execution_count": 219,
   "metadata": {},
   "outputs": [
    {
     "data": {
      "text/plain": [
       "'Finished writing 2 files.'"
      ]
     },
     "metadata": {},
     "output_type": "display_data"
    }
   ],
   "source": [
    "# Produce a line coverage csv for each cluster and write to disk\n",
    "write_csv_line_coverage(df_merged_line_coverage_spectral, 'phpMyAdmin_clusters_spectral')"
   ]
  },
  {
   "cell_type": "code",
   "execution_count": 220,
   "metadata": {},
   "outputs": [],
   "source": [
    "# Serialize data\n",
    "# Store\n",
    "with open('df_merged_line_coverage_spectral.pickle', 'wb') as pkl:\n",
    "    pickle.dump(df_merged_line_coverage_spectral, pkl)\n",
    "\n",
    "# Retrieve\n",
    "# with open('df_merged_line_coverage_spectral.pickle', 'rb') as pkl:\n",
    "#     df_merged_line_coverage_spectral = pickle.load(pkl)"
   ]
  },
  {
   "cell_type": "code",
   "execution_count": 221,
   "metadata": {
    "id": "KDedxtYyEnNS"
   },
   "outputs": [],
   "source": [
    "# Generate dirnames\n",
    "def generate_dirnames(df_merged_line_coverage, webapp_name):\n",
    "    num_clusters = len(df_merged_line_coverage)\n",
    "    dir_names_list = []\n",
    "    for cluster in df_merged_line_coverage.keys():\n",
    "        dir_names_list.append(f\"{webapp_name}_Clusters/{webapp_name}_{cluster}\")    \n",
    "    return dir_names_list\n",
    "\n",
    "def generate_base_dirs(source_dir, dir_names_list):\n",
    "    for dir_name in tqdm(dir_names_list):\n",
    "        copytree(source_dir, f\"./webapps/{dir_name}\")"
   ]
  },
  {
   "cell_type": "code",
   "execution_count": 222,
   "metadata": {},
   "outputs": [
    {
     "name": "stderr",
     "output_type": "stream",
     "text": [
      "100%|██████████| 2/2 [04:58<00:00, 149.35s/it]\n"
     ]
    }
   ],
   "source": [
    "source_dir = \"./webapps/phpMyAdmin\"\n",
    "\n",
    "# SPECTRAL\n",
    "dir_names_spectral = generate_dirnames(df_merged_line_coverage_spectral, 'PMA_spectral')\n",
    "# Create N dirs\n",
    "generate_base_dirs(source_dir, dir_names_spectral)"
   ]
  },
  {
   "cell_type": "code",
   "execution_count": 223,
   "metadata": {},
   "outputs": [],
   "source": [
    "# Debloat the apps\n",
    "def debloat_app(clusters_dir, webapp_prefix, dir_names, df_merged_line_coverage, label):\n",
    "    for dir_name in tqdm(dir_names):\n",
    "        cluster_filename_splitlist = dir_name.split('/')[-1].split('_')\n",
    "        cluster_id = int(cluster_filename_splitlist[-1])\n",
    "        csv_line_coverage = df_merged_line_coverage[cluster_id]\n",
    "        # display(f\"XDEBUG_MODE=off php -d memory_limit=512M LIM/debloat.php \" \\\n",
    "        #                 f\"{clusters_dir}_{label}/{cluster_id}_lines.csv \" \\\n",
    "        #                 f\"webapps/{dir_name}\")\n",
    "        subprocess.call(f\"XDEBUG_MODE=off php -d memory_limit=512M LIM/debloat.php \" \\\n",
    "                        f\"{clusters_dir}_{label}/{cluster_id}_lines.csv \" \\\n",
    "                        f\"webapps/{dir_name}\",\n",
    "                        shell=True, \n",
    "                        stdout=subprocess.DEVNULL,\n",
    "                        stderr=subprocess.STDOUT)\n",
    "        clear_output(wait=True)"
   ]
  },
  {
   "cell_type": "code",
   "execution_count": 225,
   "metadata": {},
   "outputs": [
    {
     "name": "stderr",
     "output_type": "stream",
     "text": [
      "100%|██████████| 2/2 [01:09<00:00, 34.97s/it]\n"
     ]
    }
   ],
   "source": [
    "# Debloat the apps\n",
    "debloat_app('phpMyAdmin_clusters', 'PMA_spectral', dir_names_spectral, df_merged_line_coverage_spectral, 'spectral')"
   ]
  },
  {
   "cell_type": "markdown",
   "metadata": {
    "tags": []
   },
   "source": [
    "### Generate Docker Environment Files"
   ]
  },
  {
   "cell_type": "code",
   "execution_count": 86,
   "metadata": {},
   "outputs": [],
   "source": [
    "def generate_redis_mapping(dict_user_cluster_id_mapping, label, mappings_file='mappings.txt'):\n",
    "    # dict_user_cluster_id_mapping => {'username': cluster_id}\n",
    "    display(f\"Generating {mappings_file}.\")\n",
    "    prefix = label.upper().split('_')[0]\n",
    "    with open(mappings_file, 'w') as f:\n",
    "        for user in dict_user_cluster_id_mapping:\n",
    "            cluster_id = dict_user_cluster_id_mapping[user]\n",
    "            f.write(f\"SET MP_{prefix}_{user.lower()} {cluster_id}\\n\")\n",
    "            \n",
    "def generate_all_redis_mappings(cluster_size, profile_cluster_mapping, label):\n",
    "    filename = f\"dockerfiles/bootstrap/mappings.txt\"\n",
    "    dict_user_cluster_id_mapping = {}\n",
    "    for cluster_id in profile_cluster_mapping:\n",
    "        for participant in profile_cluster_mapping[cluster_id]:\n",
    "            dict_user_cluster_id_mapping[participant] = cluster_id\n",
    "    generate_redis_mapping(dict_user_cluster_id_mapping, label, filename)"
   ]
  },
  {
   "cell_type": "code",
   "execution_count": 226,
   "metadata": {},
   "outputs": [
    {
     "data": {
      "text/plain": [
       "'Generating dockerfiles/bootstrap/mappings.txt.'"
      ]
     },
     "metadata": {},
     "output_type": "display_data"
    }
   ],
   "source": [
    "generate_all_redis_mappings(optimal_spectral_cluster_size, profile_cluster_spectral[f\"{optimal_spectral_cluster_size}_clusters\"], 'PMA_spectral')"
   ]
  },
  {
   "cell_type": "code",
   "execution_count": 90,
   "metadata": {},
   "outputs": [],
   "source": [
    "def generate_pma_docker_compose(service_name, www_dir_path):\n",
    "    return {\n",
    "                service_name: \n",
    "                {\n",
    "                    'build': './dockerfiles/web',\n",
    "                    'volumes': ['./docker/webservers/pma/conf/apache2.conf:/etc/apache2/apache2.conf',\n",
    "                                './docker/webservers/pma/conf/sites-enabled/:/etc/apache2/sites-enabled/',\n",
    "                                f\"{www_dir_path}:/var/www/html/\",\n",
    "                                './docker/session:/tmp'],\n",
    "                    'tty': True,\n",
    "                    'stdin_open': False\n",
    "                }\n",
    "            }\n",
    "def generate_docker_compose(dict_webapps):\n",
    "    dict_services = {'reverse-proxy': \n",
    "                        {\n",
    "                            'image': 'openresty/openresty:buster', \n",
    "                            'volumes': ['./docker/reverse-proxy/default.conf:/etc/nginx/conf.d/default.conf', './docker/reverse-proxy/lua/:/usr/local/lua/'],\n",
    "                            'ports': ['8080:80']\n",
    "                        },\n",
    "                     'redis':\n",
    "                        {\n",
    "                            'image': 'redis:bullseye'\n",
    "                        },\n",
    "                     'bootstrap':\n",
    "                        {\n",
    "                           'build': './dockerfiles/bootstrap/',\n",
    "                           'depends_on': ['redis']\n",
    "                        },\n",
    "                     'db':\n",
    "                        {\n",
    "                           'build': './dockerfiles/db/',\n",
    "                           'volumes': ['/var/lib/mysql'],\n",
    "                           'tty': True,\n",
    "                           'stdin_open': False,\n",
    "                           'environment': \n",
    "                            {\n",
    "                                'MYSQL_ROOT_PASSWORD': 'root',\n",
    "                                'MYSQL_ROOT_HOST': '%'\n",
    "                             }\n",
    "                         }\n",
    "                    }\n",
    "    for webapp in dict_webapps:\n",
    "        dict_services = {**dict_services, **generate_pma_docker_compose(webapp, dict_webapps[webapp])}\n",
    "    dict_docker_compose = {'version': '3', 'services': dict_services}\n",
    "    return dict_docker_compose"
   ]
  },
  {
   "cell_type": "code",
   "execution_count": 97,
   "metadata": {},
   "outputs": [],
   "source": [
    "# Write docker-compose files to disk\n",
    "def write_docker_compose(profile_cluster_mapping, webapp_name):\n",
    "    docker_compose_label = f\"docker-compose.yaml\"\n",
    "    docker_compose_webservers = {}\n",
    "    for cluster_id in profile_cluster_mapping:\n",
    "        webapp_path = f\"./webapps/{webapp_name}_Clusters/{webapp_name}_{cluster_id}/\"\n",
    "        webapp_service_name = f\"webserver{cluster_id}\"\n",
    "        docker_compose_webservers[webapp_service_name] = webapp_path\n",
    "    docker_compose = generate_docker_compose(docker_compose_webservers)\n",
    "\n",
    "    with open(f\"./{docker_compose_label}\", 'w+') as f:\n",
    "        yaml.dump(docker_compose, f, default_flow_style=False, sort_keys=False)"
   ]
  },
  {
   "cell_type": "code",
   "execution_count": 227,
   "metadata": {},
   "outputs": [],
   "source": [
    "write_docker_compose(profile_cluster_spectral[f\"{optimal_spectral_cluster_size}_clusters\"], 'PMA_spectral')"
   ]
  },
  {
   "cell_type": "code",
   "execution_count": null,
   "metadata": {},
   "outputs": [],
   "source": [
    "# Produce docker-compose environment and user mapping\n",
    "#   i. Get user to cluster mapping\n",
    "#  ii. Produce Redis mapping file\n",
    "# iii. Produce docker-compose.yml file\n",
    "#  iv. Copy the respective ./webapps/PMA_Clusters/redis_mappings/PMA_mappings_*.txt file to dockerfiles/bootstrap/mappings.txt\n",
    "\n",
    "# At this point we are done with debloating, we can serve the dbltr web apps through docker compose environment"
   ]
  },
  {
   "cell_type": "markdown",
   "metadata": {
    "tags": []
   },
   "source": [
    "## Attack Surface Reduction Analysis"
   ]
  },
  {
   "cell_type": "markdown",
   "metadata": {
    "tags": []
   },
   "source": [
    "### LLOC Reduction"
   ]
  },
  {
   "cell_type": "code",
   "execution_count": 99,
   "metadata": {},
   "outputs": [],
   "source": [
    "# Get LLOC results\n",
    "\n",
    "def get_lloc_results(dir_names):\n",
    "    lloc = {}\n",
    "    for dir_name in tqdm(dir_names):\n",
    "        cluster_friendly_name = dir_name.split('/')[-1].split('_')[-1]\n",
    "        # display(f\"XDEBUG_MODE=off php -d memory_limit=512M LIM/phploc.phar \" \\\n",
    "        #                 f\"webapps/{dir_name}/\")\n",
    "        proc = subprocess.Popen(f\"XDEBUG_MODE=off php -d memory_limit=512M LIM/phploc.phar \" \\\n",
    "                        f\"webapps/{dir_name}/\", \n",
    "                        shell=True,\n",
    "                        stdout=subprocess.PIPE)\n",
    "        output = proc.stdout.read()\n",
    "        lloc[cluster_friendly_name] = None\n",
    "        for line in str(output).split('\\\\n'):\n",
    "            if 'Logical Lines of Code (LLOC)' in line:\n",
    "                lloc[cluster_friendly_name] = line.split()[5]\n",
    "                \n",
    "    return lloc"
   ]
  },
  {
   "cell_type": "code",
   "execution_count": 234,
   "metadata": {},
   "outputs": [
    {
     "name": "stderr",
     "output_type": "stream",
     "text": [
      "100%|██████████| 2/2 [00:12<00:00,  6.38s/it]\n"
     ]
    }
   ],
   "source": [
    "lloc_spectral = get_lloc_results(dir_names_spectral)"
   ]
  },
  {
   "cell_type": "code",
   "execution_count": 235,
   "metadata": {},
   "outputs": [],
   "source": [
    "# Write LLOC reduction to CSV\n",
    "pd.DataFrame(lloc_spectral.items(), columns=['Clustering', 'LLOC']).to_csv('lloc_spectral.csv')"
   ]
  },
  {
   "cell_type": "code",
   "execution_count": 236,
   "metadata": {},
   "outputs": [],
   "source": [
    "# Convert lloc to int\n",
    "lloc_spectral = dict((k,int(v)) for k,v in lloc_spectral.items())"
   ]
  },
  {
   "cell_type": "code",
   "execution_count": 237,
   "metadata": {},
   "outputs": [],
   "source": [
    "# Min-Med-Max Cluster size\n",
    "lloc_spectral_min, lloc_spectral_med, lloc_spectral_max = min(lloc_spectral.values()), statistics.median(lloc_spectral.values()), max(lloc_spectral.values())"
   ]
  },
  {
   "cell_type": "code",
   "execution_count": 238,
   "metadata": {},
   "outputs": [],
   "source": [
    "# Manually extracted LLOC numbers for baseline web apps\n",
    "pma_baseline_lloc = 112434\n",
    "wp_baseline_lloc = 103326\n",
    "mgt_baseline_lloc = 1050610"
   ]
  },
  {
   "cell_type": "code",
   "execution_count": 239,
   "metadata": {},
   "outputs": [
    {
     "data": {
      "text/plain": [
       "'SPECTRAL LLOC 18592 21297.5 24003'"
      ]
     },
     "metadata": {},
     "output_type": "display_data"
    }
   ],
   "source": [
    "display(f\"SPECTRAL LLOC {lloc_spectral_min} {lloc_spectral_med} {lloc_spectral_max}\")"
   ]
  },
  {
   "cell_type": "markdown",
   "metadata": {
    "jp-MarkdownHeadingCollapsed": true,
    "tags": []
   },
   "source": [
    "#### CVE Mappings"
   ]
  },
  {
   "cell_type": "code",
   "execution_count": 110,
   "metadata": {
    "scrolled": true,
    "tags": []
   },
   "outputs": [],
   "source": [
    "# Check CVE reduction\n",
    "cve_mappings_pma = {'CVE-2016-5734' : {'libraries/classes/Controllers/Table/FindReplaceController.php': [170]},\n",
    "                    'CVE-2020-26935': {'libraries/classes/Controllers/Table/SearchController.php': [188],\n",
    "                                       'libraries/classes/Controllers/Table/ZoomSearchController.php': [253]},\n",
    "                    'CVE-2019-6798': {'libraries/classes/Database/Designer.php': [114],\n",
    "                                      'libraries/classes/Database/Designer/Common.php': [519]},\n",
    "                    'CVE-2016-5703' : {'libraries/classes/Database/CentralColumns.php': [110, 162, 306, 567]},\n",
    "                    'CVE-2016-6616' : {'libraries/classes/Controllers/Server/UserGroupsController.php': [34],\n",
    "                                      'libraries/classes/Database/Designer.php': [76],\n",
    "                                      'libraries/classes/Plugins/Export/ExportSql.php': [609],\n",
    "                                      'libraries/classes/Plugins/Schema/ExportRelationSchema.php': [64],\n",
    "                                      'libraries/classes/Database/Designer/Common.php': [216, 233, 250, 272, 311]},\n",
    "                    'CVE-2020-26934': {'libraries/classes/Controllers/TransformationWrapperController.php': [83]},\n",
    "                    'CVE-2019-12616': {'libraries/classes/Plugins/Auth/AuthenticationCookie.php': [210],\n",
    "                                       'libraries/common.inc.php': [57]},\n",
    "                    'CVE-2020-5504' : {'libraries/classes/Server/Privileges.php': [1083]},\n",
    "                    'CVE-2016-6606' : {'libraries/classes/Plugins/Auth/AuthenticationCookie.php': [369, 581, 607, 651]},\n",
    "                    'CVE-2016-9849' : {'libraries/classes/Plugins/AuthenticationPlugin.php': [225]},\n",
    "                    'CVE-2020-10804': {'libraries/classes/Server/Privileges.php': [596],\n",
    "                                       'libraries/classes/UserPassword.php': [54]},\n",
    "                    'CVE-2020-10802': {'libraries/classes/Controllers/Table/SearchController.php': [188]},\n",
    "                    'CVE-2016-6633' : {'libraries/classes/Plugins/Import/ImportShp.php': [75],\n",
    "                                      'libraries/classes/ZipExtension.php': [148]},\n",
    "                    'CVE-2018-12613': {'libraries/classes/Core.php': [396]},\n",
    "                    'CVE-2017-1000499': {'libraries/classes/Url.php': [191],\n",
    "                                          'libraries/classes/Navigation/Nodes/NodeColumn.php': [28],\n",
    "                                          'libraries/classes/Navigation/Nodes/NodeColumnContainer.php': [22],\n",
    "                                          'libraries/classes/Navigation/Nodes/NodeDatabase.php': [37],\n",
    "                                          'libraries/classes/Navigation/Nodes/NodeEvent.php': [26],\n",
    "                                          'libraries/classes/Navigation/Nodes/NodeEventContainer.php': [22],\n",
    "                                          'libraries/classes/Navigation/Nodes/NodeFunction.php': [26],\n",
    "                                          'libraries/classes/Navigation/Nodes/NodeFunctionContainer.php': [22],\n",
    "                                          'libraries/classes/Navigation/Nodes/NodeIndex.php': [26],\n",
    "                                          'libraries/classes/Navigation/Nodes/NodeIndexContainer.php': [22],\n",
    "                                          'libraries/classes/Navigation/Nodes/NodeProcedure.php': [26],\n",
    "                                          'libraries/classes/Navigation/Nodes/NodeProcedureContainer.php': [22],\n",
    "                                          'libraries/classes/Navigation/Nodes/NodeTable.php': [32],\n",
    "                                          'libraries/classes/Navigation/Nodes/NodeTableContainer.php': [22],\n",
    "                                          'libraries/classes/Navigation/Nodes/NodeTrigger.php': [26],\n",
    "                                          'libraries/classes/Navigation/Nodes/NodeTriggerContainer.php': [22],\n",
    "                                          'libraries/classes/Navigation/Nodes/NodeView.php': [26],\n",
    "                                          'libraries/classes/Navigation/Nodes/NodeViewContainer.php': [22]},\n",
    "                    'CVE-2016-6609': {'libraries/classes/Plugins/Export/ExportPhparray.php': [98, 143]},\n",
    "                    'CVE-2016-6619': {'libraries/classes/RecentFavoriteTable.php': [104, 123],\n",
    "                                      'libraries/RecentFavoriteTable.php': [97, 119],\n",
    "                                      'libraries/classes/Table.php': [1316, 1333]},\n",
    "                    'CVE-2013-3240': {'libraries/classes/Plugins.php': [68]},\n",
    "                    'CVE-2014-8959': {'libraries/classes/Gis/GisFactory.php': [27]},\n",
    "                    'CVE-2017-1000017': {'libraries/classes/ReplicationGui.php': [288]}\n",
    "                   }\n",
    "\n",
    "cve_mappings_wp = {'CVE-2014-5203': {'wp-includes/class-wp-customize-widgets.php': [1113, 1142]},\n",
    "                   'CVE-2015-2213': {'wp-includes/post.php': [2812]},\n",
    "                   'CVE-2017-5611': {'wp-includes/class-wp-query.php': [1443]},\n",
    "                   'CVE-2017-14723': {'wp-includes/wp-db.php': [1152]},\n",
    "                   'CVE-2017-16510': {'wp-includes/meta.php': [287],\n",
    "                                      'wp-includes/post.php': [4499],\n",
    "                                      'wp-includes/wp-db.php': [1015, 1152]},\n",
    "                   'CVE-2014-5204': {'wp-includes/pluggable.php': [589, 1921]},\n",
    "                   'CVE-2014-5205': {'wp-includes/pluggable.php': [1921]},\n",
    "                   'CVE-2014-9033': {'wp-login.php': [12]},\n",
    "                   'CVE-2014-9037': {'wp-includes/class-phpass.php': [203, 237]},\n",
    "                   'CVE-2015-5731': {'wp-admin/includes/post.php': [1705]},\n",
    "                   'CVE-2016-6635': {'wp-admin/includes/ajax-actions.php': [144],\n",
    "                                     'wp-admin/includes/template.php': [2149]},\n",
    "                   'CVE-2017-5492': {'wp-admin/includes/class-wp-screen.php': [927]},\n",
    "                   'CVE-2017-9064': {'wp-admin/includes/file.php': [1701]},\n",
    "                   'CVE-2016-7169': {'wp-admin/includes/class-file-upload-upgrader.php': [52]},\n",
    "                   'CVE-2017-17091': {'wp-admin/user-new.php': [10]},\n",
    "                   'CVE-2018-12895': {'wp-includes/post.php': [5057]},\n",
    "                   'CVE-2014-9038': {'wp-includes/http.php': [484]},\n",
    "                   'CVE-2018-10101': {'wp-includes/http.php': [484]},\n",
    "                   'CVE-2018-10100': {'wp-login.php': [12]},\n",
    "                   'CVE-2017-6815': {'wp-includes/pluggable.php': [1318]}\n",
    "                  }"
   ]
  },
  {
   "cell_type": "markdown",
   "metadata": {
    "jp-MarkdownHeadingCollapsed": true,
    "tags": []
   },
   "source": [
    "#### CVE Reduction results"
   ]
  },
  {
   "cell_type": "code",
   "execution_count": 111,
   "metadata": {},
   "outputs": [],
   "source": [
    "# Get the mappings here and check if they are present or absent in the line coverage dataframe of each debloating profile\n",
    "def get_cve_coverage(df_merged_line_coverage, cve_mappings):\n",
    "    cve_file_coverage = {}\n",
    "    cve_function_coverage = {}\n",
    "    for cluster_id in tqdm(df_merged_line_coverage):\n",
    "        cve_file_coverage[cluster_id] = {}\n",
    "        cve_function_coverage[cluster_id] = {}\n",
    "        for cve in cve_mappings:\n",
    "            cve_file_coverage[cluster_id][cve] = False\n",
    "            cve_function_coverage[cluster_id][cve] = False\n",
    "            for vulnerable_file in cve_mappings[cve]:\n",
    "                if df_merged_line_coverage[cluster_id]['filename'].str.contains(f\"/var/www/html/{vulnerable_file}\").any():\n",
    "                    cve_file_coverage[cluster_id][cve] = True\n",
    "                    for vulnerable_line in cve_mappings[cve][vulnerable_file]:\n",
    "                        if vulnerable_line in df_merged_line_coverage[cluster_id] \\\n",
    "                                                .loc[df_merged_line_coverage[cluster_id]['filename'] == f\"/var/www/html/{vulnerable_file}\"]['linenumber'].values:\n",
    "                            cve_function_coverage[cluster_id][cve] = True\n",
    "                            break\n",
    "    return cve_file_coverage, cve_function_coverage"
   ]
  },
  {
   "cell_type": "code",
   "execution_count": 113,
   "metadata": {},
   "outputs": [
    {
     "name": "stderr",
     "output_type": "stream",
     "text": [
      "100%|██████████| 3/3 [00:00<00:00,  4.35it/s]\n"
     ]
    }
   ],
   "source": [
    "spectral_cve_file_coverage, spectral_cve_function_coverage = get_cve_coverage(df_merged_line_coverage_spectral, cve_mappings_pma)"
   ]
  },
  {
   "cell_type": "code",
   "execution_count": 114,
   "metadata": {},
   "outputs": [],
   "source": [
    "# Total PMA CVEs = 12\n",
    "# Total WP  CVEs = 20\n",
    "def get_coverage_sum(cve_coverage):\n",
    "    cve_coverage_sum = {}\n",
    "    for cluster_id in cve_coverage:\n",
    "        covered_cves = sum(c == True for c in cve_coverage[cluster_id].values())\n",
    "        if cluster_id not in cve_coverage_sum:\n",
    "            cve_coverage_sum[cluster_id] = []\n",
    "        cve_coverage_sum[cluster_id].append(covered_cves)\n",
    "    return cve_coverage_sum"
   ]
  },
  {
   "cell_type": "code",
   "execution_count": 115,
   "metadata": {},
   "outputs": [],
   "source": [
    "cve_function_coverage_sum_spectral = get_coverage_sum(spectral_cve_function_coverage)"
   ]
  },
  {
   "cell_type": "code",
   "execution_count": 116,
   "metadata": {},
   "outputs": [],
   "source": [
    "def display_cve_stats(cve_count, label):\n",
    "    display(f\"{label}: min: {min(cve_count)} median: {statistics.median(cve_count)} max: {max(cve_count)}\")"
   ]
  },
  {
   "cell_type": "code",
   "execution_count": 117,
   "metadata": {},
   "outputs": [
    {
     "data": {
      "text/plain": [
       "'PMA spectral: min: 0 median: 0 max: 5'"
      ]
     },
     "metadata": {},
     "output_type": "display_data"
    }
   ],
   "source": [
    "display_cve_stats([item[0] for item in cve_function_coverage_sum_spectral.values()], 'PMA spectral')"
   ]
  },
  {
   "cell_type": "markdown",
   "metadata": {
    "jp-MarkdownHeadingCollapsed": true,
    "tags": []
   },
   "source": [
    "### POP Gadget Chain Analysis"
   ]
  },
  {
   "cell_type": "code",
   "execution_count": null,
   "metadata": {},
   "outputs": [],
   "source": [
    "'''\n",
    "Source of gadgets: https://github.com/ambionics/phpggc\n",
    "PMA:\n",
    "- Symfony\n",
    "- TCPDF\n",
    "WordPress:\n",
    "- Multiple\n",
    "Magento:\n",
    "- Guzzle\n",
    "- Magento\n",
    "- Monolog\n",
    "- Symfony\n",
    "'''\n",
    "phpggc_pops = {0: {'vendor/symfony/cache/Adapter/AbstractAdapter.php': [36]},# phpMyAdmin Symfony 1\n",
    "               1: {'vendor/symfony/cache/CacheItem.php': [20],\n",
    "                   'vendor/symfony/cache/Adapter/ProxyAdapter.php': [24],\n",
    "                   'vendor/symfony/cache/Adapter/TagAwareAdapter.php': [24]}, # phpMyAdmin Symfony 2\n",
    "               2: {'vendor/tecnickcom/tcpdf/tcpdf.php': [134, 7451]}, # phpMyAdmin TCPDF\n",
    "               3: {'wp-includes/Requests/Utility/FilteredIterator.php': [31]}, # WordPress Generic\n",
    "               4: {'vendor/guzzlehttp/guzzle/src/Cookie/SetCookie.php': [8],\n",
    "                   'vendor/guzzlehttp/guzzle/src/Cookie/CookieJar.php': [25]}\n",
    "              }\n",
    "\n",
    "def get_pop_chains(pops, df_line_coverage_dict):\n",
    "    covered_pops = {}\n",
    "    for cluster_id in df_line_coverage_dict:\n",
    "        for pop_id in pops:\n",
    "            all_lines = False\n",
    "            for pop_file_path in pops[pop_id]:\n",
    "                # display(f\"Checking /var/www/html/{pop_file_path} for {participant}\")\n",
    "                if (df_line_coverage_dict[cluster_id]['filename'].str.contains(pop_file_path)).any() and \\\n",
    "                   (df_line_coverage_dict[cluster_id]['linenumber'].isin(pops[pop_id][pop_file_path])).any():\n",
    "                    all_lines = True\n",
    "                else:\n",
    "                    all_lines = False\n",
    "            if all_lines:\n",
    "                if pop_id not in covered_pops:\n",
    "                    covered_pops[pop_id] = [cluster_id]\n",
    "                else:\n",
    "                    if cluster_id not in covered_pops[pop_id]:\n",
    "                        covered_pops[pop_id].append(cluster_id)\n",
    "    return covered_pops\n",
    "\n"
   ]
  },
  {
   "cell_type": "code",
   "execution_count": null,
   "metadata": {},
   "outputs": [
    {
     "name": "stderr",
     "output_type": "stream",
     "text": [
      "100%|██████████| 5/5 [00:00<00:00, 28.43it/s]\n"
     ]
    }
   ],
   "source": [
    "df_line_coverage_pma_merged = pd.DataFrame()\n",
    "df_line_coverage_pma_merged_dict = {}\n",
    "for participant in tqdm(df_line_coverage_dict):\n",
    "    df_line_coverage_pma_merged = df_line_coverage_pma_merged.append(df_line_coverage_dict[participant])\n",
    "df_line_coverage_pma_merged.rename(columns={0: 'filename', 1: 'linenumber'}, inplace=True)\n",
    "df_line_coverage_pma_merged_dict[0] = df_line_coverage_pma_merged"
   ]
  },
  {
   "cell_type": "code",
   "execution_count": null,
   "metadata": {},
   "outputs": [],
   "source": [
    "baseline_pop_coverage_pma = get_pop_chains(phpggc_pops, df_line_coverage_pma_merged_dict)"
   ]
  },
  {
   "cell_type": "code",
   "execution_count": null,
   "metadata": {},
   "outputs": [
    {
     "data": {
      "text/plain": [
       "{2: [0]}"
      ]
     },
     "metadata": {},
     "output_type": "display_data"
    }
   ],
   "source": [
    "display(baseline_pop_coverage_pma)"
   ]
  },
  {
   "cell_type": "code",
   "execution_count": null,
   "metadata": {},
   "outputs": [],
   "source": [
    "pop_coverage_spectral = get_pop_chains(phpggc_pops, df_merged_line_coverage_spectral)"
   ]
  },
  {
   "cell_type": "code",
   "execution_count": null,
   "metadata": {},
   "outputs": [
    {
     "data": {
      "text/plain": [
       "'PMA: '"
      ]
     },
     "metadata": {},
     "output_type": "display_data"
    },
    {
     "data": {
      "text/plain": [
       "{2: [1]}"
      ]
     },
     "metadata": {},
     "output_type": "display_data"
    }
   ],
   "source": [
    "# POP Chain id: [List of exposed clusters]\n",
    "display('PMA: ', pop_coverage_spectral)"
   ]
  }
 ],
 "metadata": {
  "colab": {
   "collapsed_sections": [
    "1Sv3cbMS73sI"
   ],
   "name": "rbd_dataanalysis.ipynb",
   "provenance": []
  },
  "kernelspec": {
   "display_name": "Python 3 (ipykernel)",
   "language": "python",
   "name": "python3"
  },
  "language_info": {
   "codemirror_mode": {
    "name": "ipython",
    "version": 3
   },
   "file_extension": ".py",
   "mimetype": "text/x-python",
   "name": "python",
   "nbconvert_exporter": "python",
   "pygments_lexer": "ipython3",
   "version": "3.9.12"
  }
 },
 "nbformat": 4,
 "nbformat_minor": 4
}
